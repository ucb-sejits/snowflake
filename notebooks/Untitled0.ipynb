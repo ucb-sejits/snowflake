{
 "metadata": {
  "name": "",
  "signature": "sha256:8ff74b4daa5afbfa5579bfa0cd0776da8c359fa2be8f638918307abe6217a934"
 },
 "nbformat": 3,
 "nbformat_minor": 0,
 "worksheets": [
  {
   "cells": [
    {
     "cell_type": "code",
     "collapsed": false,
     "input": [
      "import sys\n",
      "import os\n",
      "import ast\n",
      "if \"../stencil\" not in sys.path: sys.path.append(\"../stencil\")\n",
      "from stencil import *\n",
      "from ctree.frontend import dump"
     ],
     "language": "python",
     "metadata": {},
     "outputs": [],
     "prompt_number": 1
    },
    {
     "cell_type": "code",
     "collapsed": false,
     "input": [
      "arr = WeightArray([\n",
      "    [1, 1, 1],\n",
      "    [1, 1, 1],\n",
      "    [1, 1, 1]\n",
      "])\n",
      "s = StencilComponent(\"a\", arr)\n",
      "simple_stencil = Stencil(s)"
     ],
     "language": "python",
     "metadata": {},
     "outputs": [],
     "prompt_number": 2
    },
    {
     "cell_type": "code",
     "collapsed": true,
     "input": [
      "print simple_stencil"
     ],
     "language": "python",
     "metadata": {},
     "outputs": [
      {
       "output_type": "stream",
       "stream": "stdout",
       "text": [
        "<stencil.Stencil object at 0x1096492d0>\n"
       ]
      }
     ],
     "prompt_number": 3
    },
    {
     "cell_type": "code",
     "collapsed": false,
     "input": [
      "s[2, 2]"
     ],
     "language": "python",
     "metadata": {},
     "outputs": [
      {
       "metadata": {},
       "output_type": "pyout",
       "prompt_number": 4,
       "text": [
        "<stencil.StencilConstant at 0x109649550>"
       ]
      }
     ],
     "prompt_number": 4
    },
    {
     "cell_type": "code",
     "collapsed": false,
     "input": [
      "tree = simple_stencil.compile_to_ast()\n",
      "print(dump(tree))"
     ],
     "language": "python",
     "metadata": {},
     "outputs": [
      {
       "output_type": "stream",
       "stream": "stdout",
       "text": [
        "BinOp(left=BinOp(left=BinOp(left=BinOp(left=BinOp(left=BinOp(left=BinOp(left=BinOp(left=BinOp(left=Subscript(value=Name(id='a', ctx=Load()), slice=Index(value=BinOp(left=Name(id='index', ctx=Load()), op=Add(), right=Tuple(elts=[\n",
        "    Num(n=-1),\n",
        "    Num(n=-1),\n",
        "  ], ctx=Load())))), op=Mult(), right=Num(n=1)), op=Add(), right=BinOp(left=Subscript(value=Name(id='a', ctx=Load()), slice=Index(value=BinOp(left=Name(id='index', ctx=Load()), op=Add(), right=Tuple(elts=[\n",
        "    Num(n=-1),\n",
        "    Num(n=0),\n",
        "  ], ctx=Load())))), op=Mult(), right=Num(n=1))), op=Add(), right=BinOp(left=Subscript(value=Name(id='a', ctx=Load()), slice=Index(value=BinOp(left=Name(id='index', ctx=Load()), op=Add(), right=Tuple(elts=[\n",
        "    Num(n=-1),\n",
        "    Num(n=1),\n",
        "  ], ctx=Load())))), op=Mult(), right=Num(n=1))), op=Add(), right=BinOp(left=Subscript(value=Name(id='a', ctx=Load()), slice=Index(value=BinOp(left=Name(id='index', ctx=Load()), op=Add(), right=Tuple(elts=[\n",
        "    Num(n=0),\n",
        "    Num(n=-1),\n",
        "  ], ctx=Load())))), op=Mult(), right=Num(n=1))), op=Add(), right=BinOp(left=Subscript(value=Name(id='a', ctx=Load()), slice=Index(value=BinOp(left=Name(id='index', ctx=Load()), op=Add(), right=Tuple(elts=[\n",
        "    Num(n=0),\n",
        "    Num(n=0),\n",
        "  ], ctx=Load())))), op=Mult(), right=Num(n=1))), op=Add(), right=BinOp(left=Subscript(value=Name(id='a', ctx=Load()), slice=Index(value=BinOp(left=Name(id='index', ctx=Load()), op=Add(), right=Tuple(elts=[\n",
        "    Num(n=0),\n",
        "    Num(n=1),\n",
        "  ], ctx=Load())))), op=Mult(), right=Num(n=1))), op=Add(), right=BinOp(left=Subscript(value=Name(id='a', ctx=Load()), slice=Index(value=BinOp(left=Name(id='index', ctx=Load()), op=Add(), right=Tuple(elts=[\n",
        "    Num(n=1),\n",
        "    Num(n=-1),\n",
        "  ], ctx=Load())))), op=Mult(), right=Num(n=1))), op=Add(), right=BinOp(left=Subscript(value=Name(id='a', ctx=Load()), slice=Index(value=BinOp(left=Name(id='index', ctx=Load()), op=Add(), right=Tuple(elts=[\n",
        "    Num(n=1),\n",
        "    Num(n=0),\n",
        "  ], ctx=Load())))), op=Mult(), right=Num(n=1))), op=Add(), right=BinOp(left=Subscript(value=Name(id='a', ctx=Load()), slice=Index(value=BinOp(left=Name(id='index', ctx=Load()), op=Add(), right=Tuple(elts=[\n",
        "    Num(n=1),\n",
        "    Num(n=1),\n",
        "  ], ctx=Load())))), op=Mult(), right=Num(n=1)))\n"
       ]
      }
     ],
     "prompt_number": 5
    },
    {
     "cell_type": "code",
     "collapsed": false,
     "input": [],
     "language": "python",
     "metadata": {},
     "outputs": []
    }
   ],
   "metadata": {}
  }
 ]
}
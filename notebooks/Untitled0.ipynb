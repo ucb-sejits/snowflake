{
 "metadata": {
  "name": "",
  "signature": "sha256:d15f1012fd06626115a156dc98a4cfb5813bf17600fa1698acd9630532379350"
 },
 "nbformat": 3,
 "nbformat_minor": 0,
 "worksheets": [
  {
   "cells": [
    {
     "cell_type": "code",
     "collapsed": false,
     "input": [
      "import sys\n",
      "import os\n",
      "import ast\n",
      "if \"../stencil\" not in sys.path: sys.path.append(\"../stencil\")\n",
      "from stencil import *\n",
      "from ctree.frontend import dump\n",
      "import numpy as np\n",
      "import inspect"
     ],
     "language": "python",
     "metadata": {},
     "outputs": [],
     "prompt_number": 1
    },
    {
     "cell_type": "code",
     "collapsed": false,
     "input": [
      "b = 3\n",
      "h2inv = 1\n",
      "ndim = 1"
     ],
     "language": "python",
     "metadata": {},
     "outputs": [],
     "prompt_number": 2
    },
    {
     "cell_type": "code",
     "collapsed": false,
     "input": [
      "beta_face_values = [np.arange(17)]\n",
      "mesh = np.arange(16)"
     ],
     "language": "python",
     "metadata": {},
     "outputs": [],
     "prompt_number": 3
    },
    {
     "cell_type": "code",
     "collapsed": false,
     "input": [
      "mesh_weights_1 = WeightArray([1, -1, 0])\n",
      "mesh_weights_2 = WeightArray([0, -1, 1])"
     ],
     "language": "python",
     "metadata": {},
     "outputs": [],
     "prompt_number": 4
    },
    {
     "cell_type": "code",
     "collapsed": false,
     "input": [
      "mesh_component_1 = StencilComponent(\"mesh\", mesh_weights_1)\n",
      "mesh_component_2 = StencilComponent(\"mesh\", mesh_weights_2)"
     ],
     "language": "python",
     "metadata": {},
     "outputs": [],
     "prompt_number": 5
    },
    {
     "cell_type": "code",
     "collapsed": false,
     "input": [
      "beta_weight_1 = WeightArray([1])\n",
      "beta_component_1 = StencilComponent(\"beta_face_values_1\", beta_weight_1)"
     ],
     "language": "python",
     "metadata": {},
     "outputs": [],
     "prompt_number": 6
    },
    {
     "cell_type": "code",
     "collapsed": false,
     "input": [
      "first_part = beta_component_1 * mesh_component_1 * -b * h2inv"
     ],
     "language": "python",
     "metadata": {},
     "outputs": [],
     "prompt_number": 7
    },
    {
     "cell_type": "code",
     "collapsed": false,
     "input": [
      "beta_weight_2 = WeightArray([0, 0, 1])\n",
      "beta_component_2 = StencilComponent(\"beta_face_values_1\", beta_weight_2)"
     ],
     "language": "python",
     "metadata": {},
     "outputs": [],
     "prompt_number": 8
    },
    {
     "cell_type": "code",
     "collapsed": false,
     "input": [
      "second_part = beta_component_2 * mesh_component_2 * -b * h2inv"
     ],
     "language": "python",
     "metadata": {},
     "outputs": [],
     "prompt_number": 9
    },
    {
     "cell_type": "code",
     "collapsed": false,
     "input": [
      "full_op = first_part + second_part"
     ],
     "language": "python",
     "metadata": {},
     "outputs": [],
     "prompt_number": 10
    },
    {
     "cell_type": "code",
     "collapsed": false,
     "input": [
      "op_stencil = Stencil(full_op)"
     ],
     "language": "python",
     "metadata": {},
     "outputs": [],
     "prompt_number": 11
    },
    {
     "cell_type": "code",
     "collapsed": false,
     "input": [
      "kernel = op_stencil.get_kernel()"
     ],
     "language": "python",
     "metadata": {},
     "outputs": [],
     "prompt_number": 12
    },
    {
     "cell_type": "code",
     "collapsed": false,
     "input": [
      "mesh"
     ],
     "language": "python",
     "metadata": {},
     "outputs": [
      {
       "metadata": {},
       "output_type": "pyout",
       "prompt_number": 13,
       "text": [
        "array([ 0,  1,  2,  3,  4,  5,  6,  7,  8,  9, 10, 11, 12, 13, 14, 15])"
       ]
      }
     ],
     "prompt_number": 13
    },
    {
     "cell_type": "code",
     "collapsed": false,
     "input": [
      "beta_face_values"
     ],
     "language": "python",
     "metadata": {},
     "outputs": [
      {
       "metadata": {},
       "output_type": "pyout",
       "prompt_number": 14,
       "text": [
        "[array([ 0,  1,  2,  3,  4,  5,  6,  7,  8,  9, 10, 11, 12, 13, 14, 15, 16])]"
       ]
      }
     ],
     "prompt_number": 14
    },
    {
     "cell_type": "code",
     "collapsed": false,
     "input": [
      "inspect.getargspec(kernel)"
     ],
     "language": "python",
     "metadata": {},
     "outputs": [
      {
       "metadata": {},
       "output_type": "pyout",
       "prompt_number": 15,
       "text": [
        "ArgSpec(args=['index', 'beta_face_values_1', 'mesh'], varargs=None, keywords=None, defaults=None)"
       ]
      }
     ],
     "prompt_number": 15
    },
    {
     "cell_type": "code",
     "collapsed": false,
     "input": [
      "kernel(Vector((1,)), *beta_face_values, mesh=mesh)"
     ],
     "language": "python",
     "metadata": {},
     "outputs": [
      {
       "metadata": {},
       "output_type": "pyout",
       "prompt_number": 16,
       "text": [
        "-3"
       ]
      }
     ],
     "prompt_number": 16
    },
    {
     "cell_type": "code",
     "collapsed": false,
     "input": [
      "beta_face_values[0]"
     ],
     "language": "python",
     "metadata": {},
     "outputs": [
      {
       "metadata": {},
       "output_type": "pyout",
       "prompt_number": 17,
       "text": [
        "array([ 0,  1,  2,  3,  4,  5,  6,  7,  8,  9, 10, 11, 12, 13, 14, 15, 16])"
       ]
      }
     ],
     "prompt_number": 17
    },
    {
     "cell_type": "code",
     "collapsed": false,
     "input": [
      "bfv = beta_face_values[0]"
     ],
     "language": "python",
     "metadata": {},
     "outputs": [],
     "prompt_number": 18
    },
    {
     "cell_type": "code",
     "collapsed": false,
     "input": [
      "bfv[1] * (mesh[0] - mesh[1]) * -b * h2inv"
     ],
     "language": "python",
     "metadata": {},
     "outputs": [
      {
       "metadata": {},
       "output_type": "pyout",
       "prompt_number": 19,
       "text": [
        "3"
       ]
      }
     ],
     "prompt_number": 19
    },
    {
     "cell_type": "code",
     "collapsed": false,
     "input": [
      "bfv[2] * (mesh[2] - mesh[1]) * -b * h2inv"
     ],
     "language": "python",
     "metadata": {},
     "outputs": [
      {
       "metadata": {},
       "output_type": "pyout",
       "prompt_number": 20,
       "text": [
        "-6"
       ]
      }
     ],
     "prompt_number": 20
    },
    {
     "cell_type": "code",
     "collapsed": false,
     "input": [
      "f = StencilComponent(\"rhs_mesh\", WeightArray([1]))\n",
      "lambda_component = StencilComponent(\"lambda_mesh\", WeightArray([1]))\n",
      "working_component = StencilComponent(\"mesh\", WeightArray([1]))\n",
      "weight = 1"
     ],
     "language": "python",
     "metadata": {},
     "outputs": [],
     "prompt_number": 21
    },
    {
     "cell_type": "code",
     "collapsed": false,
     "input": [
      "jacobi = Stencil(working_component + (weight * lambda_component * (f - full_op)))"
     ],
     "language": "python",
     "metadata": {},
     "outputs": [],
     "prompt_number": 22
    },
    {
     "cell_type": "code",
     "collapsed": false,
     "input": [
      "jacobi_kernel = jacobi.get_kernel()"
     ],
     "language": "python",
     "metadata": {},
     "outputs": [],
     "prompt_number": 23
    },
    {
     "cell_type": "code",
     "collapsed": false,
     "input": [
      "inspect.getargspec(jacobi_kernel)"
     ],
     "language": "python",
     "metadata": {},
     "outputs": [
      {
       "metadata": {},
       "output_type": "pyout",
       "prompt_number": 24,
       "text": [
        "ArgSpec(args=['index', 'beta_face_values_1', 'lambda_mesh', 'mesh', 'rhs_mesh'], varargs=None, keywords=None, defaults=None)"
       ]
      }
     ],
     "prompt_number": 24
    },
    {
     "cell_type": "code",
     "collapsed": false,
     "input": [
      "rhs_mesh = np.arange(1, 17)\n",
      "lambda_mesh = np.arange(16)"
     ],
     "language": "python",
     "metadata": {},
     "outputs": [],
     "prompt_number": 25
    },
    {
     "cell_type": "code",
     "collapsed": false,
     "input": [
      "[jacobi_kernel(Vector((i,)), bfv, lambda_mesh, mesh, rhs_mesh) for i in range(1, 15)]"
     ],
     "language": "python",
     "metadata": {},
     "outputs": [
      {
       "metadata": {},
       "output_type": "pyout",
       "prompt_number": 27,
       "text": [
        "[6, 14, 24, 36, 50, 66, 84, 104, 126, 150, 176, 204, 234, 266]"
       ]
      }
     ],
     "prompt_number": 27
    },
    {
     "cell_type": "code",
     "collapsed": false,
     "input": [
      "from ctree.frontend import dump"
     ],
     "language": "python",
     "metadata": {},
     "outputs": [],
     "prompt_number": 28
    },
    {
     "cell_type": "code",
     "collapsed": false,
     "input": [
      "print(dump(jacobi.op_tree))"
     ],
     "language": "python",
     "metadata": {},
     "outputs": [
      {
       "output_type": "stream",
       "stream": "stdout",
       "text": [
        "StencilOp(left=StencilComponent(weights=WeightArray(weights=[\n",
        "    StencilConstant(),\n",
        "  ])), right=StencilOp(left=StencilOp(left=StencilComponent(weights=WeightArray(weights=[\n",
        "    StencilConstant(),\n",
        "  ])), right=StencilConstant()), right=StencilOp(left=StencilComponent(weights=WeightArray(weights=[\n",
        "    StencilConstant(),\n",
        "  ])), right=StencilOp(left=StencilOp(left=StencilOp(left=StencilOp(left=StencilComponent(weights=WeightArray(weights=[\n",
        "    StencilConstant(),\n",
        "  ])), right=StencilComponent(weights=WeightArray(weights=[\n",
        "    StencilConstant(),\n",
        "    StencilConstant(),\n",
        "    StencilConstant(),\n",
        "  ]))), right=StencilConstant()), right=StencilConstant()), right=StencilOp(left=StencilOp(left=StencilOp(left=StencilComponent(weights=WeightArray(weights=[\n",
        "    StencilConstant(),\n",
        "    StencilConstant(),\n",
        "    StencilConstant(),\n",
        "  ])), right=StencilComponent(weights=WeightArray(weights=[\n",
        "    StencilConstant(),\n",
        "    StencilConstant(),\n",
        "    StencilConstant(),\n",
        "  ]))), right=StencilConstant()), right=StencilConstant())))))\n"
       ]
      }
     ],
     "prompt_number": 30
    },
    {
     "cell_type": "code",
     "collapsed": false,
     "input": [],
     "language": "python",
     "metadata": {},
     "outputs": []
    }
   ],
   "metadata": {}
  }
 ]
}
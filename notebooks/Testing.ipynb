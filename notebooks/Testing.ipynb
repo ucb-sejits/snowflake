{
 "cells": [
  {
   "cell_type": "code",
   "execution_count": 1,
   "metadata": {
    "collapsed": false
   },
   "outputs": [
    {
     "name": "stdout",
     "output_type": "stream",
     "text": [
      "ctree looking for relative cache directories named compiled, checking directories under this one\r\n",
      "\r\n"
     ]
    }
   ],
   "source": [
    "from snowflake.nodes import *\n",
    "from snowflake.stencil_compiler import *\n",
    "from snowflake.analytics import get_shadow, validate_stencil\n",
    "from snowflake.utils import swap_variables\n",
    "import numpy as np\n",
    "import inspect\n",
    "!ctree -cc"
   ]
  },
  {
   "cell_type": "code",
   "execution_count": 2,
   "metadata": {
    "collapsed": true
   },
   "outputs": [],
   "source": [
    "sizes = (33, 33, 33)\n",
    "data = np.zeros(sizes)\n",
    "swap = np.zeros_like(data)"
   ]
  },
  {
   "cell_type": "code",
   "execution_count": 3,
   "metadata": {
    "collapsed": false
   },
   "outputs": [],
   "source": [
    "smooth_sc = StencilComponent('data', WeightArray([[[1/4.0, 1/2.0, 1/4.0]]]))\n",
    "smooth_stencil = Stencil(smooth_sc, 'swap', ((1, -1, 1),(1, -1, 1),(1, -1, 1)))"
   ]
  },
  {
   "cell_type": "code",
   "execution_count": 4,
   "metadata": {
    "collapsed": false
   },
   "outputs": [],
   "source": [
    "compiler = CCompiler()\n",
    "kern = compiler.compile(smooth_stencil)\n",
    "kern(swap, data)"
   ]
  }
 ],
 "metadata": {
  "kernelspec": {
   "display_name": "Python 2",
   "language": "python",
   "name": "python2"
  },
  "language_info": {
   "codemirror_mode": {
    "name": "ipython",
    "version": 2
   },
   "file_extension": ".py",
   "mimetype": "text/x-python",
   "name": "python",
   "nbconvert_exporter": "python",
   "pygments_lexer": "ipython2",
   "version": "2.7.10"
  }
 },
 "nbformat": 4,
 "nbformat_minor": 0
}

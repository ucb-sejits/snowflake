{
 "metadata": {
  "name": "",
  "signature": "sha256:9f6f11c1a51e75dc669012845a9e1e9bc8338907b477cbb0fbc565fd854fa499"
 },
 "nbformat": 3,
 "nbformat_minor": 0,
 "worksheets": [
  {
   "cells": [
    {
     "cell_type": "code",
     "collapsed": false,
     "input": [
      "import sys\n",
      "import os\n",
      "import ast\n",
      "if \"../stencil\" not in sys.path: sys.path.append(\"../stencil\")\n",
      "from stencil import *\n",
      "from stencil_compiler import PythonCompiler, CCompiler\n",
      "from ctree.frontend import dump\n",
      "import numpy as np\n",
      "import inspect"
     ],
     "language": "python",
     "metadata": {},
     "outputs": [],
     "prompt_number": 1
    },
    {
     "cell_type": "code",
     "collapsed": false,
     "input": [
      "compiler = PythonCompiler()"
     ],
     "language": "python",
     "metadata": {},
     "outputs": [],
     "prompt_number": 2
    },
    {
     "cell_type": "code",
     "collapsed": false,
     "input": [
      "arr = WeightArray([\n",
      "    [1/9.0, 1/9.0, 1/9.0],\n",
      "    [1/9.0, 1/9.0, 1/9.0],\n",
      "    [1/9.0, 1/9.0, 1/9.0]\n",
      "])\n",
      "#arr2 = WeightArray([0])\n",
      "s = StencilComponent(\"a\", arr)\n",
      "simple_stencil = Stencil(s, \"out\", ((1, 7, 1), (1, 7, 1)))"
     ],
     "language": "python",
     "metadata": {},
     "outputs": [],
     "prompt_number": 3
    },
    {
     "cell_type": "code",
     "collapsed": false,
     "input": [
      "output = np.zeros((8, 8))"
     ],
     "language": "python",
     "metadata": {},
     "outputs": [],
     "prompt_number": 4
    },
    {
     "cell_type": "code",
     "collapsed": false,
     "input": [
      "output"
     ],
     "language": "python",
     "metadata": {},
     "outputs": [
      {
       "metadata": {},
       "output_type": "pyout",
       "prompt_number": 5,
       "text": [
        "array([[ 0.,  0.,  0.,  0.,  0.,  0.,  0.,  0.],\n",
        "       [ 0.,  0.,  0.,  0.,  0.,  0.,  0.,  0.],\n",
        "       [ 0.,  0.,  0.,  0.,  0.,  0.,  0.,  0.],\n",
        "       [ 0.,  0.,  0.,  0.,  0.,  0.,  0.,  0.],\n",
        "       [ 0.,  0.,  0.,  0.,  0.,  0.,  0.,  0.],\n",
        "       [ 0.,  0.,  0.,  0.,  0.,  0.,  0.,  0.],\n",
        "       [ 0.,  0.,  0.,  0.,  0.,  0.,  0.,  0.],\n",
        "       [ 0.,  0.,  0.,  0.,  0.,  0.,  0.,  0.]])"
       ]
      }
     ],
     "prompt_number": 5
    },
    {
     "cell_type": "code",
     "collapsed": false,
     "input": [
      "kernel = compiler.compile(simple_stencil)"
     ],
     "language": "python",
     "metadata": {},
     "outputs": [],
     "prompt_number": 6
    },
    {
     "cell_type": "code",
     "collapsed": false,
     "input": [
      "test_data = np.arange(64).reshape(8, 8)"
     ],
     "language": "python",
     "metadata": {},
     "outputs": [],
     "prompt_number": 7
    },
    {
     "cell_type": "code",
     "collapsed": false,
     "input": [
      "kernel(output, test_data)"
     ],
     "language": "python",
     "metadata": {},
     "outputs": [],
     "prompt_number": 8
    },
    {
     "cell_type": "code",
     "collapsed": true,
     "input": [
      "output"
     ],
     "language": "python",
     "metadata": {},
     "outputs": [
      {
       "metadata": {},
       "output_type": "pyout",
       "prompt_number": 9,
       "text": [
        "array([[  0.,   0.,   0.,   0.,   0.,   0.,   0.,   0.],\n",
        "       [  0.,   9.,  10.,  11.,  12.,  13.,  14.,   0.],\n",
        "       [  0.,  17.,  18.,  19.,  20.,  21.,  22.,   0.],\n",
        "       [  0.,  25.,  26.,  27.,  28.,  29.,  30.,   0.],\n",
        "       [  0.,  33.,  34.,  35.,  36.,  37.,  38.,   0.],\n",
        "       [  0.,  41.,  42.,  43.,  44.,  45.,  46.,   0.],\n",
        "       [  0.,  49.,  50.,  51.,  52.,  53.,  54.,   0.],\n",
        "       [  0.,   0.,   0.,   0.,   0.,   0.,   0.,   0.]])"
       ]
      }
     ],
     "prompt_number": 9
    },
    {
     "cell_type": "code",
     "collapsed": false,
     "input": [
      "test_data"
     ],
     "language": "python",
     "metadata": {},
     "outputs": [
      {
       "metadata": {},
       "output_type": "pyout",
       "prompt_number": 10,
       "text": [
        "array([[ 0,  1,  2,  3,  4,  5,  6,  7],\n",
        "       [ 8,  9, 10, 11, 12, 13, 14, 15],\n",
        "       [16, 17, 18, 19, 20, 21, 22, 23],\n",
        "       [24, 25, 26, 27, 28, 29, 30, 31],\n",
        "       [32, 33, 34, 35, 36, 37, 38, 39],\n",
        "       [40, 41, 42, 43, 44, 45, 46, 47],\n",
        "       [48, 49, 50, 51, 52, 53, 54, 55],\n",
        "       [56, 57, 58, 59, 60, 61, 62, 63]])"
       ]
      }
     ],
     "prompt_number": 10
    },
    {
     "cell_type": "code",
     "collapsed": false,
     "input": [
      "ccompiler = CCompiler()"
     ],
     "language": "python",
     "metadata": {},
     "outputs": [],
     "prompt_number": 11
    },
    {
     "cell_type": "code",
     "collapsed": false,
     "input": [
      "ckernel = ccompiler.compile(simple_stencil)"
     ],
     "language": "python",
     "metadata": {},
     "outputs": [
      {
       "output_type": "stream",
       "stream": "stdout",
       "text": [
        "ITERATION SPACE\n"
       ]
      }
     ],
     "prompt_number": 12
    },
    {
     "cell_type": "code",
     "collapsed": false,
     "input": [
      "ckernel(output, test_data)"
     ],
     "language": "python",
     "metadata": {},
     "outputs": [
      {
       "output_type": "stream",
       "stream": "stdout",
       "text": [
        "ITERATION SPACE\n",
        "ITERATION SPACE\n",
        "void kernel() {\n",
        "    for (index_0 = 1; index_0 < 7; index_0 += 1) {\n",
        "        for (index_1 = 1; index_1 < 7; index_1 += 1) {\n",
        "            \n",
        "            out[encode(index_0, index_1)] = a[encode(index_0 + -1, index_1 + -1)] * 0.111111111111 + a[encode(index_0 + -1, index_1 + 0)] * 0.111111111111 + a[encode(index_0 + -1, index_1 + 1)] * 0.111111111111 + a[encode(index_0 + 0, index_1 + -1)] * 0.111111111111 + a[encode(index_0 + 0, index_1 + 0)] * 0.111111111111 + a[encode(index_0 + 0, index_1 + 1)] * 0.111111111111 + a[encode(index_0 + 1, index_1 + -1)] * 0.111111111111 + a[encode(index_0 + 1, index_1 + 0)] * 0.111111111111 + a[encode(index_0 + 1, index_1 + 1)] * 0.111111111111;\n",
        "\n",
        "        };\n",
        "    };\n",
        "}\n",
        "\n",
        "#include <stdlib.h>\n",
        "#include <stdint.h>\n",
        "#define encode(index_0, index_1) ((index_0) * 8 + (index_1) * 1)\n",
        "\n"
       ]
      },
      {
       "ename": "AssertionError",
       "evalue": "Transform must return an iterable of Files",
       "output_type": "pyerr",
       "traceback": [
        "\u001b[0;31m---------------------------------------------------------------------------\u001b[0m\n\u001b[0;31mAssertionError\u001b[0m                            Traceback (most recent call last)",
        "\u001b[0;32m<ipython-input-13-f2c52b5c4d84>\u001b[0m in \u001b[0;36m<module>\u001b[0;34m()\u001b[0m\n\u001b[0;32m----> 1\u001b[0;31m \u001b[0mckernel\u001b[0m\u001b[0;34m(\u001b[0m\u001b[0moutput\u001b[0m\u001b[0;34m,\u001b[0m \u001b[0mtest_data\u001b[0m\u001b[0;34m)\u001b[0m\u001b[0;34m\u001b[0m\u001b[0m\n\u001b[0m",
        "\u001b[0;32m/Users/nzhang-dev/aspire/ctree/ctree/jit.pyc\u001b[0m in \u001b[0;36m__call__\u001b[0;34m(self, *args, **kwargs)\u001b[0m\n\u001b[1;32m    344\u001b[0m             \u001b[0mlog\u001b[0m\u001b[0;34m.\u001b[0m\u001b[0minfo\u001b[0m\u001b[0;34m(\u001b[0m\u001b[0;34m\"specialized function cache miss.\"\u001b[0m\u001b[0;34m)\u001b[0m\u001b[0;34m\u001b[0m\u001b[0m\n\u001b[1;32m    345\u001b[0m             transform_result = self.get_transform_result(\n\u001b[0;32m--> 346\u001b[0;31m                 program_config, dir_name)\n\u001b[0m\u001b[1;32m    347\u001b[0m \u001b[0;34m\u001b[0m\u001b[0m\n\u001b[1;32m    348\u001b[0m             \u001b[0mcsf\u001b[0m \u001b[0;34m=\u001b[0m \u001b[0mself\u001b[0m\u001b[0;34m.\u001b[0m\u001b[0mfinalize\u001b[0m\u001b[0;34m(\u001b[0m\u001b[0mtransform_result\u001b[0m\u001b[0;34m,\u001b[0m \u001b[0mprogram_config\u001b[0m\u001b[0;34m)\u001b[0m\u001b[0;34m\u001b[0m\u001b[0m\n",
        "\u001b[0;32m/Users/nzhang-dev/aspire/ctree/ctree/jit.pyc\u001b[0m in \u001b[0;36mget_transform_result\u001b[0;34m(self, program_config, dir_name, cache)\u001b[0m\n\u001b[1;32m    297\u001b[0m             \u001b[0;32mfor\u001b[0m \u001b[0msource_file\u001b[0m \u001b[0;32min\u001b[0m \u001b[0mtransform_result\u001b[0m\u001b[0;34m:\u001b[0m\u001b[0;34m\u001b[0m\u001b[0m\n\u001b[1;32m    298\u001b[0m                 \u001b[0;32massert\u001b[0m \u001b[0misinstance\u001b[0m\u001b[0;34m(\u001b[0m\u001b[0msource_file\u001b[0m\u001b[0;34m,\u001b[0m \u001b[0mFile\u001b[0m\u001b[0;34m)\u001b[0m\u001b[0;34m,\u001b[0m\u001b[0;31m \u001b[0m\u001b[0;31m\\\u001b[0m\u001b[0;34m\u001b[0m\u001b[0m\n\u001b[0;32m--> 299\u001b[0;31m                     \u001b[0;34m\"Transform must return an iterable of Files\"\u001b[0m\u001b[0;34m\u001b[0m\u001b[0m\n\u001b[0m\u001b[1;32m    300\u001b[0m                 \u001b[0msource_file\u001b[0m\u001b[0;34m.\u001b[0m\u001b[0mpath\u001b[0m \u001b[0;34m=\u001b[0m \u001b[0mdir_name\u001b[0m\u001b[0;34m\u001b[0m\u001b[0m\n\u001b[1;32m    301\u001b[0m \u001b[0;34m\u001b[0m\u001b[0m\n",
        "\u001b[0;31mAssertionError\u001b[0m: Transform must return an iterable of Files"
       ]
      }
     ],
     "prompt_number": 13
    }
   ],
   "metadata": {}
  }
 ]
}
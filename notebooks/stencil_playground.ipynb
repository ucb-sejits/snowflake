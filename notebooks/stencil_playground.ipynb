{
 "metadata": {
  "name": "",
  "signature": "sha256:2ca10b84b377d45e16f2a9311dffc5bcd1e31deb5badd55859300f9c7633653b"
 },
 "nbformat": 3,
 "nbformat_minor": 0,
 "worksheets": [
  {
   "cells": [
    {
     "cell_type": "code",
     "collapsed": false,
     "input": [
      "import sys\n",
      "import os\n",
      "import ast\n",
      "if \"../stencil\" not in sys.path: sys.path.append(\"../stencil\")\n",
      "from snowflake.nodes import *\n",
      "from snowflake.stencil_compiler import PythonCompiler, CCompiler\n",
      "from ctree.frontend import dump\n",
      "import numpy as np\n",
      "import inspect\n",
      "!ctree -cc"
     ],
     "language": "python",
     "metadata": {},
     "outputs": [
      {
       "output_type": "stream",
       "stream": "stdout",
       "text": [
        "ctree looking for relative cache directories named compiled, checking directories under this one\r\n",
        "\r\n"
       ]
      }
     ],
     "prompt_number": 3
    },
    {
     "cell_type": "code",
     "collapsed": false,
     "input": [
      "compiler = PythonCompiler()"
     ],
     "language": "python",
     "metadata": {},
     "outputs": [],
     "prompt_number": 4
    },
    {
     "cell_type": "code",
     "collapsed": false,
     "input": [
      "arr = WeightArray([\n",
      "    [1/9.0, 1/9.0, 1/9.0],\n",
      "    [1/9.0, 1/9.0, 1/9.0],\n",
      "    [1/9.0, 1/9.0, 1/9.0]\n",
      "])\n",
      "#arr2 = WeightArray([0])\n",
      "s = StencilComponent(\"a\", arr)\n",
      "simple_stencil = Stencil(s, \"out\", ((1, -1), (1, -1)))"
     ],
     "language": "python",
     "metadata": {},
     "outputs": [],
     "prompt_number": 5
    },
    {
     "cell_type": "code",
     "collapsed": false,
     "input": [
      "output = np.zeros((8, 8), dtype=np.double)"
     ],
     "language": "python",
     "metadata": {},
     "outputs": [],
     "prompt_number": 6
    },
    {
     "cell_type": "code",
     "collapsed": false,
     "input": [
      "output"
     ],
     "language": "python",
     "metadata": {},
     "outputs": [
      {
       "metadata": {},
       "output_type": "pyout",
       "prompt_number": 7,
       "text": [
        "array([[ 0.,  0.,  0.,  0.,  0.,  0.,  0.,  0.],\n",
        "       [ 0.,  0.,  0.,  0.,  0.,  0.,  0.,  0.],\n",
        "       [ 0.,  0.,  0.,  0.,  0.,  0.,  0.,  0.],\n",
        "       [ 0.,  0.,  0.,  0.,  0.,  0.,  0.,  0.],\n",
        "       [ 0.,  0.,  0.,  0.,  0.,  0.,  0.,  0.],\n",
        "       [ 0.,  0.,  0.,  0.,  0.,  0.,  0.,  0.],\n",
        "       [ 0.,  0.,  0.,  0.,  0.,  0.,  0.,  0.],\n",
        "       [ 0.,  0.,  0.,  0.,  0.,  0.,  0.,  0.]])"
       ]
      }
     ],
     "prompt_number": 7
    },
    {
     "cell_type": "code",
     "collapsed": false,
     "input": [
      "kernel = compiler.compile(simple_stencil)"
     ],
     "language": "python",
     "metadata": {},
     "outputs": [],
     "prompt_number": 8
    },
    {
     "cell_type": "code",
     "collapsed": false,
     "input": [
      "test_data = np.arange(64, dtype=np.double).reshape(8, 8)"
     ],
     "language": "python",
     "metadata": {},
     "outputs": [],
     "prompt_number": 9
    },
    {
     "cell_type": "code",
     "collapsed": false,
     "input": [
      "kernel(output, test_data)"
     ],
     "language": "python",
     "metadata": {},
     "outputs": [],
     "prompt_number": 10
    },
    {
     "cell_type": "code",
     "collapsed": true,
     "input": [
      "output"
     ],
     "language": "python",
     "metadata": {},
     "outputs": [
      {
       "metadata": {},
       "output_type": "pyout",
       "prompt_number": 11,
       "text": [
        "array([[  0.,   0.,   0.,   0.,   0.,   0.,   0.,   0.],\n",
        "       [  0.,   9.,  10.,  11.,  12.,  13.,  14.,   0.],\n",
        "       [  0.,  17.,  18.,  19.,  20.,  21.,  22.,   0.],\n",
        "       [  0.,  25.,  26.,  27.,  28.,  29.,  30.,   0.],\n",
        "       [  0.,  33.,  34.,  35.,  36.,  37.,  38.,   0.],\n",
        "       [  0.,  41.,  42.,  43.,  44.,  45.,  46.,   0.],\n",
        "       [  0.,  49.,  50.,  51.,  52.,  53.,  54.,   0.],\n",
        "       [  0.,   0.,   0.,   0.,   0.,   0.,   0.,   0.]])"
       ]
      }
     ],
     "prompt_number": 11
    },
    {
     "cell_type": "code",
     "collapsed": false,
     "input": [
      "test_data"
     ],
     "language": "python",
     "metadata": {},
     "outputs": [
      {
       "metadata": {},
       "output_type": "pyout",
       "prompt_number": 12,
       "text": [
        "array([[  0.,   1.,   2.,   3.,   4.,   5.,   6.,   7.],\n",
        "       [  8.,   9.,  10.,  11.,  12.,  13.,  14.,  15.],\n",
        "       [ 16.,  17.,  18.,  19.,  20.,  21.,  22.,  23.],\n",
        "       [ 24.,  25.,  26.,  27.,  28.,  29.,  30.,  31.],\n",
        "       [ 32.,  33.,  34.,  35.,  36.,  37.,  38.,  39.],\n",
        "       [ 40.,  41.,  42.,  43.,  44.,  45.,  46.,  47.],\n",
        "       [ 48.,  49.,  50.,  51.,  52.,  53.,  54.,  55.],\n",
        "       [ 56.,  57.,  58.,  59.,  60.,  61.,  62.,  63.]])"
       ]
      }
     ],
     "prompt_number": 12
    },
    {
     "cell_type": "code",
     "collapsed": false,
     "input": [
      "ccompiler = CCompiler()"
     ],
     "language": "python",
     "metadata": {},
     "outputs": [],
     "prompt_number": 13
    },
    {
     "cell_type": "code",
     "collapsed": false,
     "input": [
      "ckernel = ccompiler.compile(simple_stencil)"
     ],
     "language": "python",
     "metadata": {},
     "outputs": [],
     "prompt_number": 14
    },
    {
     "cell_type": "code",
     "collapsed": false,
     "input": [
      "output[:] = 0\n",
      "ckernel(output, test_data)"
     ],
     "language": "python",
     "metadata": {},
     "outputs": [],
     "prompt_number": 15
    },
    {
     "cell_type": "code",
     "collapsed": false,
     "input": [
      "output"
     ],
     "language": "python",
     "metadata": {},
     "outputs": [
      {
       "metadata": {},
       "output_type": "pyout",
       "prompt_number": 16,
       "text": [
        "array([[  0.,   0.,   0.,   0.,   0.,   0.,   0.,   0.],\n",
        "       [  0.,   9.,  10.,  11.,  12.,  13.,  14.,   0.],\n",
        "       [  0.,  17.,  18.,  19.,  20.,  21.,  22.,   0.],\n",
        "       [  0.,  25.,  26.,  27.,  28.,  29.,  30.,   0.],\n",
        "       [  0.,  33.,  34.,  35.,  36.,  37.,  38.,   0.],\n",
        "       [  0.,  41.,  42.,  43.,  44.,  45.,  46.,   0.],\n",
        "       [  0.,  49.,  50.,  51.,  52.,  53.,  54.,   0.],\n",
        "       [  0.,   0.,   0.,   0.,   0.,   0.,   0.,   0.]])"
       ]
      }
     ],
     "prompt_number": 16
    },
    {
     "cell_type": "code",
     "collapsed": false,
     "input": [
      "output.shape"
     ],
     "language": "python",
     "metadata": {},
     "outputs": [
      {
       "metadata": {},
       "output_type": "pyout",
       "prompt_number": 15,
       "text": [
        "(8, 8)"
       ]
      }
     ],
     "prompt_number": 15
    },
    {
     "cell_type": "code",
     "collapsed": false,
     "input": [],
     "language": "python",
     "metadata": {},
     "outputs": [],
     "prompt_number": 15
    },
    {
     "cell_type": "code",
     "collapsed": false,
     "input": [],
     "language": "python",
     "metadata": {},
     "outputs": [],
     "prompt_number": 15
    }
   ],
   "metadata": {}
  }
 ]
}
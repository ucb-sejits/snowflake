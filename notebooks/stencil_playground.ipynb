{
 "metadata": {
  "name": "",
  "signature": "sha256:e2df1bbece68832ea3e8d8dfc220c5018f10b6f3321bcc8602e8a3ed759b234f"
 },
 "nbformat": 3,
 "nbformat_minor": 0,
 "worksheets": [
  {
   "cells": [
    {
     "cell_type": "code",
     "collapsed": false,
     "input": [
      "import sys\n",
      "import os\n",
      "import ast\n",
      "if \"../stencil\" not in sys.path: sys.path.append(\"../stencil\")\n",
      "from stencil import *\n",
      "from stencil_compiler import PythonCompiler\n",
      "from ctree.frontend import dump\n",
      "import numpy as np\n",
      "import inspect"
     ],
     "language": "python",
     "metadata": {},
     "outputs": [],
     "prompt_number": 1
    },
    {
     "cell_type": "code",
     "collapsed": false,
     "input": [
      "compiler = PythonCompiler()"
     ],
     "language": "python",
     "metadata": {},
     "outputs": [],
     "prompt_number": 2
    },
    {
     "cell_type": "code",
     "collapsed": false,
     "input": [
      "arr = WeightArray([\n",
      "    [1, 2, 3],\n",
      "    [4, 5, 6],\n",
      "    [7, 8, 9]\n",
      "])\n",
      "s = StencilComponent(\"a\", arr)\n",
      "simple_stencil = Stencil(s)"
     ],
     "language": "python",
     "metadata": {},
     "outputs": [],
     "prompt_number": 3
    },
    {
     "cell_type": "code",
     "collapsed": true,
     "input": [
      "print simple_stencil"
     ],
     "language": "python",
     "metadata": {},
     "outputs": [
      {
       "output_type": "stream",
       "stream": "stdout",
       "text": [
        "<stencil.Stencil object at 0x10fd8e1d0>\n"
       ]
      }
     ],
     "prompt_number": 4
    },
    {
     "cell_type": "code",
     "collapsed": false,
     "input": [
      "s[2, 2]"
     ],
     "language": "python",
     "metadata": {},
     "outputs": [
      {
       "metadata": {},
       "output_type": "pyout",
       "prompt_number": 5,
       "text": [
        "<stencil.StencilConstant at 0x1142b9490>"
       ]
      }
     ],
     "prompt_number": 5
    },
    {
     "cell_type": "code",
     "collapsed": false,
     "input": [
      "kernel = compiler.compile(simple_stencil)"
     ],
     "language": "python",
     "metadata": {},
     "outputs": [
      {
       "output_type": "stream",
       "stream": "stdout",
       "text": [
        "found\n",
        "set(['a'])\n"
       ]
      }
     ],
     "prompt_number": 6
    },
    {
     "cell_type": "code",
     "collapsed": false,
     "input": [
      "a = np.arange(16).reshape((4, 4))"
     ],
     "language": "python",
     "metadata": {},
     "outputs": [],
     "prompt_number": 7
    },
    {
     "cell_type": "code",
     "collapsed": false,
     "input": [
      "a"
     ],
     "language": "python",
     "metadata": {},
     "outputs": [
      {
       "metadata": {},
       "output_type": "pyout",
       "prompt_number": 8,
       "text": [
        "array([[ 0,  1,  2,  3],\n",
        "       [ 4,  5,  6,  7],\n",
        "       [ 8,  9, 10, 11],\n",
        "       [12, 13, 14, 15]])"
       ]
      }
     ],
     "prompt_number": 8
    },
    {
     "cell_type": "code",
     "collapsed": false,
     "input": [
      "kernel(Vector((1, 1)), a)"
     ],
     "language": "python",
     "metadata": {},
     "outputs": [
      {
       "metadata": {},
       "output_type": "pyout",
       "prompt_number": 9,
       "text": [
        "303"
       ]
      }
     ],
     "prompt_number": 9
    },
    {
     "cell_type": "code",
     "collapsed": false,
     "input": [
      "w1 = WeightArray(np.arange(9).reshape((3, 3)))\n",
      "w2 = WeightArray(np.arange(9, 0, -1).reshape((3, 3)))"
     ],
     "language": "python",
     "metadata": {},
     "outputs": [],
     "prompt_number": 10
    },
    {
     "cell_type": "code",
     "collapsed": false,
     "input": [
      "sc1 = StencilComponent(\"a\", w1)\n",
      "sc2 = StencilComponent(\"b\", w2)\n",
      "complicated_stencil = Stencil(sc1 + sc2)"
     ],
     "language": "python",
     "metadata": {},
     "outputs": [],
     "prompt_number": 11
    },
    {
     "cell_type": "code",
     "collapsed": false,
     "input": [
      "complicated_kernel = compiler.compile(complicated_stencil)"
     ],
     "language": "python",
     "metadata": {},
     "outputs": [
      {
       "output_type": "stream",
       "stream": "stdout",
       "text": [
        "found\n",
        "found\n",
        "set(['a', 'b'])\n"
       ]
      }
     ],
     "prompt_number": 12
    },
    {
     "cell_type": "code",
     "collapsed": false,
     "input": [
      "inspect.getargspec(complicated_kernel)"
     ],
     "language": "python",
     "metadata": {},
     "outputs": [
      {
       "metadata": {},
       "output_type": "pyout",
       "prompt_number": 13,
       "text": [
        "ArgSpec(args=['index', 'a', 'b'], varargs=None, keywords=None, defaults=None)"
       ]
      }
     ],
     "prompt_number": 13
    },
    {
     "cell_type": "code",
     "collapsed": false,
     "input": [
      "a"
     ],
     "language": "python",
     "metadata": {},
     "outputs": [
      {
       "metadata": {},
       "output_type": "pyout",
       "prompt_number": 14,
       "text": [
        "array([[ 0,  1,  2,  3],\n",
        "       [ 4,  5,  6,  7],\n",
        "       [ 8,  9, 10, 11],\n",
        "       [12, 13, 14, 15]])"
       ]
      }
     ],
     "prompt_number": 14
    },
    {
     "cell_type": "code",
     "collapsed": false,
     "input": [
      "complicated_kernel(Vector((1, 1)), a, a)"
     ],
     "language": "python",
     "metadata": {},
     "outputs": [
      {
       "metadata": {},
       "output_type": "pyout",
       "prompt_number": 15,
       "text": [
        "405"
       ]
      }
     ],
     "prompt_number": 15
    },
    {
     "cell_type": "code",
     "collapsed": false,
     "input": [
      "variable_coefficient_w1 = WeightArray(np.arange(9).reshape((3, 3)).tolist())\n",
      "variable_coefficient_w2 = WeightArray([[3]])\n",
      "variable_coefficient_w1[1][1] += StencilComponent(\"b\", variable_coefficient_w2)\n",
      "#variable_coefficient_w1.data[1][1] = StencilConstant(0)\n",
      "vc_stencil = Stencil(StencilComponent(\"a\", variable_coefficient_w1))"
     ],
     "language": "python",
     "metadata": {},
     "outputs": [],
     "prompt_number": 16
    },
    {
     "cell_type": "code",
     "collapsed": false,
     "input": [
      "vc_kernel = compiler.compile(vc_stencil)"
     ],
     "language": "python",
     "metadata": {},
     "outputs": [
      {
       "output_type": "stream",
       "stream": "stdout",
       "text": [
        "found\n",
        "found\n",
        "set(['a', 'b'])\n"
       ]
      }
     ],
     "prompt_number": 17
    },
    {
     "cell_type": "code",
     "collapsed": false,
     "input": [
      "variable_coefficient_w1.data"
     ],
     "language": "python",
     "metadata": {},
     "outputs": [
      {
       "metadata": {},
       "output_type": "pyout",
       "prompt_number": 18,
       "text": [
        "[[<stencil.StencilConstant at 0x1142c3e50>,\n",
        "  <stencil.StencilConstant at 0x1142c3e10>,\n",
        "  <stencil.StencilConstant at 0x1142c3ed0>],\n",
        " [<stencil.StencilConstant at 0x1142c3e90>,\n",
        "  <stencil.StencilOp at 0x1142c3d90>,\n",
        "  <stencil.StencilConstant at 0x1142c3f50>],\n",
        " [<stencil.StencilConstant at 0x1142c3f90>,\n",
        "  <stencil.StencilConstant at 0x1142c3fd0>,\n",
        "  <stencil.StencilConstant at 0x1142c3690>]]"
       ]
      }
     ],
     "prompt_number": 18
    },
    {
     "cell_type": "code",
     "collapsed": false,
     "input": [
      "inspect.getargspec(vc_kernel)"
     ],
     "language": "python",
     "metadata": {},
     "outputs": [
      {
       "metadata": {},
       "output_type": "pyout",
       "prompt_number": 19,
       "text": [
        "ArgSpec(args=['index', 'a', 'b'], varargs=None, keywords=None, defaults=None)"
       ]
      }
     ],
     "prompt_number": 19
    },
    {
     "cell_type": "code",
     "collapsed": false,
     "input": [
      "vc_kernel(Vector((1, 1)), a, a)"
     ],
     "language": "python",
     "metadata": {},
     "outputs": [
      {
       "metadata": {},
       "output_type": "pyout",
       "prompt_number": 20,
       "text": [
        "333"
       ]
      }
     ],
     "prompt_number": 20
    }
   ],
   "metadata": {}
  }
 ]
}
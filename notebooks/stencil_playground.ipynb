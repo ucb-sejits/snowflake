{
 "metadata": {
  "name": "",
  "signature": "sha256:72e9bb6df635ab434c953e1d8281e5b0239c70529aa0cb88c0885d43a6d98d32"
 },
 "nbformat": 3,
 "nbformat_minor": 0,
 "worksheets": [
  {
   "cells": [
    {
     "cell_type": "code",
     "collapsed": false,
     "input": [
      "import sys\n",
      "import os\n",
      "import ast\n",
      "if \"../stencil\" not in sys.path: sys.path.append(\"../stencil\")\n",
      "from stencil.stencil import *\n",
      "from stencil_compiler import PythonCompiler, CCompiler\n",
      "from ctree.frontend import dump\n",
      "import numpy as np\n",
      "import inspect\n",
      "!ctree -cc"
     ],
     "language": "python",
     "metadata": {},
     "outputs": [
      {
       "output_type": "stream",
       "stream": "stdout",
       "text": [
        "ctree looking for relative cache directories named compiled, checking directories under this one\r\n",
        "\r\n"
       ]
      }
     ],
     "prompt_number": 1
    },
    {
     "cell_type": "code",
     "collapsed": false,
     "input": [
      "compiler = PythonCompiler()"
     ],
     "language": "python",
     "metadata": {},
     "outputs": [],
     "prompt_number": 2
    },
    {
     "cell_type": "code",
     "collapsed": false,
     "input": [
      "arr = WeightArray([\n",
      "    [1/9.0, 1/9.0, 1/9.0],\n",
      "    [1/9.0, 1/9.0, 1/9.0],\n",
      "    [1/9.0, 1/9.0, 1/9.0]\n",
      "])\n",
      "#arr2 = WeightArray([0])\n",
      "s = StencilComponent(\"a\", arr)\n",
      "simple_stencil = Stencil(s, \"out\", ((1, -1), (1, -1)))"
     ],
     "language": "python",
     "metadata": {},
     "outputs": [],
     "prompt_number": 3
    },
    {
     "cell_type": "code",
     "collapsed": false,
     "input": [
      "output = np.zeros((8, 8), dtype=np.double)"
     ],
     "language": "python",
     "metadata": {},
     "outputs": [],
     "prompt_number": 4
    },
    {
     "cell_type": "code",
     "collapsed": false,
     "input": [
      "output"
     ],
     "language": "python",
     "metadata": {},
     "outputs": [
      {
       "metadata": {},
       "output_type": "pyout",
       "prompt_number": 5,
       "text": [
        "array([[ 0.,  0.,  0.,  0.,  0.,  0.,  0.,  0.],\n",
        "       [ 0.,  0.,  0.,  0.,  0.,  0.,  0.,  0.],\n",
        "       [ 0.,  0.,  0.,  0.,  0.,  0.,  0.,  0.],\n",
        "       [ 0.,  0.,  0.,  0.,  0.,  0.,  0.,  0.],\n",
        "       [ 0.,  0.,  0.,  0.,  0.,  0.,  0.,  0.],\n",
        "       [ 0.,  0.,  0.,  0.,  0.,  0.,  0.,  0.],\n",
        "       [ 0.,  0.,  0.,  0.,  0.,  0.,  0.,  0.],\n",
        "       [ 0.,  0.,  0.,  0.,  0.,  0.,  0.,  0.]])"
       ]
      }
     ],
     "prompt_number": 5
    },
    {
     "cell_type": "code",
     "collapsed": false,
     "input": [
      "kernel = compiler.compile(simple_stencil)"
     ],
     "language": "python",
     "metadata": {},
     "outputs": [
      {
       "output_type": "stream",
       "stream": "stdout",
       "text": [
        "Module(body=[\n",
        "    FunctionDef(name='kernel', args=arguments(args=[\n",
        "        Name(id='out', ctx=Param()),\n",
        "        Name(id='a', ctx=Param()),\n",
        "      ], vararg=None, kwarg=None, defaults=[]), body=[\n",
        "        For(target=Name(id='index_0', ctx=Store()), iter=Call(func=Name(id='range', ctx=Load()), args=[\n",
        "            Num(n=1),\n",
        "            BinOp(left=Subscript(value=Attribute(value=Name(id='out', ctx=Load()), attr='shape', ctx=Load()), slice=Index(value=Num(n=0)), ctx=Load()), op=Sub(), right=Num(n=1)),\n",
        "            Num(n=1),\n",
        "          ], keywords=[], starargs=None, kwargs=None), body=[\n",
        "            For(target=Name(id='index_1', ctx=Store()), iter=Call(func=Name(id='range', ctx=Load()), args=[\n",
        "                Num(n=1),\n",
        "                BinOp(left=Subscript(value=Attribute(value=Name(id='out', ctx=Load()), attr='shape', ctx=Load()), slice=Index(value=Num(n=1)), ctx=Load()), op=Sub(), right=Num(n=1)),\n",
        "                Num(n=1),\n",
        "              ], keywords=[], starargs=None, kwargs=None), body=[\n",
        "                Assign(targets=[\n",
        "                    Subscript(value=Name(id='out', ctx=Load()), slice=Index(value=Tuple(elts=[\n",
        "                        Name(id='index_0', ctx=Load()),\n",
        "                        Name(id='index_1', ctx=Load()),\n",
        "                      ], ctx=Load())), ctx=Store()),\n",
        "                  ], value=BinOp(left=BinOp(left=BinOp(left=BinOp(left=BinOp(left=BinOp(left=BinOp(left=BinOp(left=BinOp(left=Subscript(value=Name(id='a', ctx=Load()), slice=Index(value=Tuple(elts=[\n",
        "                    BinOp(left=Name(id='index_0', ctx=Load()), op=Add(), right=Num(n=-1)),\n",
        "                    BinOp(left=Name(id='index_1', ctx=Load()), op=Add(), right=Num(n=-1)),\n",
        "                  ], ctx=Load())), ctx=Load()), op=Mult(), right=Num(n=0.1111111111111111)), op=Add(), right=BinOp(left=Subscript(value=Name(id='a', ctx=Load()), slice=Index(value=Tuple(elts=[\n",
        "                    BinOp(left=Name(id='index_0', ctx=Load()), op=Add(), right=Num(n=-1)),\n",
        "                    BinOp(left=Name(id='index_1', ctx=Load()), op=Add(), right=Num(n=0)),\n",
        "                  ], ctx=Load())), ctx=Load()), op=Mult(), right=Num(n=0.1111111111111111))), op=Add(), right=BinOp(left=Subscript(value=Name(id='a', ctx=Load()), slice=Index(value=Tuple(elts=[\n",
        "                    BinOp(left=Name(id='index_0', ctx=Load()), op=Add(), right=Num(n=-1)),\n",
        "                    BinOp(left=Name(id='index_1', ctx=Load()), op=Add(), right=Num(n=1)),\n",
        "                  ], ctx=Load())), ctx=Load()), op=Mult(), right=Num(n=0.1111111111111111))), op=Add(), right=BinOp(left=Subscript(value=Name(id='a', ctx=Load()), slice=Index(value=Tuple(elts=[\n",
        "                    BinOp(left=Name(id='index_0', ctx=Load()), op=Add(), right=Num(n=0)),\n",
        "                    BinOp(left=Name(id='index_1', ctx=Load()), op=Add(), right=Num(n=-1)),\n",
        "                  ], ctx=Load())), ctx=Load()), op=Mult(), right=Num(n=0.1111111111111111))), op=Add(), right=BinOp(left=Subscript(value=Name(id='a', ctx=Load()), slice=Index(value=Tuple(elts=[\n",
        "                    BinOp(left=Name(id='index_0', ctx=Load()), op=Add(), right=Num(n=0)),\n",
        "                    BinOp(left=Name(id='index_1', ctx=Load()), op=Add(), right=Num(n=0)),\n",
        "                  ], ctx=Load())), ctx=Load()), op=Mult(), right=Num(n=0.1111111111111111))), op=Add(), right=BinOp(left=Subscript(value=Name(id='a', ctx=Load()), slice=Index(value=Tuple(elts=[\n",
        "                    BinOp(left=Name(id='index_0', ctx=Load()), op=Add(), right=Num(n=0)),\n",
        "                    BinOp(left=Name(id='index_1', ctx=Load()), op=Add(), right=Num(n=1)),\n",
        "                  ], ctx=Load())), ctx=Load()), op=Mult(), right=Num(n=0.1111111111111111))), op=Add(), right=BinOp(left=Subscript(value=Name(id='a', ctx=Load()), slice=Index(value=Tuple(elts=[\n",
        "                    BinOp(left=Name(id='index_0', ctx=Load()), op=Add(), right=Num(n=1)),\n",
        "                    BinOp(left=Name(id='index_1', ctx=Load()), op=Add(), right=Num(n=-1)),\n",
        "                  ], ctx=Load())), ctx=Load()), op=Mult(), right=Num(n=0.1111111111111111))), op=Add(), right=BinOp(left=Subscript(value=Name(id='a', ctx=Load()), slice=Index(value=Tuple(elts=[\n",
        "                    BinOp(left=Name(id='index_0', ctx=Load()), op=Add(), right=Num(n=1)),\n",
        "                    BinOp(left=Name(id='index_1', ctx=Load()), op=Add(), right=Num(n=0)),\n",
        "                  ], ctx=Load())), ctx=Load()), op=Mult(), right=Num(n=0.1111111111111111))), op=Add(), right=BinOp(left=Subscript(value=Name(id='a', ctx=Load()), slice=Index(value=Tuple(elts=[\n",
        "                    BinOp(left=Name(id='index_0', ctx=Load()), op=Add(), right=Num(n=1)),\n",
        "                    BinOp(left=Name(id='index_1', ctx=Load()), op=Add(), right=Num(n=1)),\n",
        "                  ], ctx=Load())), ctx=Load()), op=Mult(), right=Num(n=0.1111111111111111)))),\n",
        "              ], orelse=[]),\n",
        "          ], orelse=[]),\n",
        "      ], decorator_list=[]),\n",
        "  ])\n"
       ]
      }
     ],
     "prompt_number": 6
    },
    {
     "cell_type": "code",
     "collapsed": false,
     "input": [
      "test_data = np.arange(64, dtype=np.double).reshape(8, 8)"
     ],
     "language": "python",
     "metadata": {},
     "outputs": [],
     "prompt_number": 7
    },
    {
     "cell_type": "code",
     "collapsed": false,
     "input": [
      "kernel(output, test_data)"
     ],
     "language": "python",
     "metadata": {},
     "outputs": [],
     "prompt_number": 8
    },
    {
     "cell_type": "code",
     "collapsed": true,
     "input": [
      "output"
     ],
     "language": "python",
     "metadata": {},
     "outputs": [
      {
       "metadata": {},
       "output_type": "pyout",
       "prompt_number": 9,
       "text": [
        "array([[  0.,   0.,   0.,   0.,   0.,   0.,   0.,   0.],\n",
        "       [  0.,   9.,  10.,  11.,  12.,  13.,  14.,   0.],\n",
        "       [  0.,  17.,  18.,  19.,  20.,  21.,  22.,   0.],\n",
        "       [  0.,  25.,  26.,  27.,  28.,  29.,  30.,   0.],\n",
        "       [  0.,  33.,  34.,  35.,  36.,  37.,  38.,   0.],\n",
        "       [  0.,  41.,  42.,  43.,  44.,  45.,  46.,   0.],\n",
        "       [  0.,  49.,  50.,  51.,  52.,  53.,  54.,   0.],\n",
        "       [  0.,   0.,   0.,   0.,   0.,   0.,   0.,   0.]])"
       ]
      }
     ],
     "prompt_number": 9
    },
    {
     "cell_type": "code",
     "collapsed": false,
     "input": [
      "test_data"
     ],
     "language": "python",
     "metadata": {},
     "outputs": [
      {
       "metadata": {},
       "output_type": "pyout",
       "prompt_number": 10,
       "text": [
        "array([[  0.,   1.,   2.,   3.,   4.,   5.,   6.,   7.],\n",
        "       [  8.,   9.,  10.,  11.,  12.,  13.,  14.,  15.],\n",
        "       [ 16.,  17.,  18.,  19.,  20.,  21.,  22.,  23.],\n",
        "       [ 24.,  25.,  26.,  27.,  28.,  29.,  30.,  31.],\n",
        "       [ 32.,  33.,  34.,  35.,  36.,  37.,  38.,  39.],\n",
        "       [ 40.,  41.,  42.,  43.,  44.,  45.,  46.,  47.],\n",
        "       [ 48.,  49.,  50.,  51.,  52.,  53.,  54.,  55.],\n",
        "       [ 56.,  57.,  58.,  59.,  60.,  61.,  62.,  63.]])"
       ]
      }
     ],
     "prompt_number": 10
    },
    {
     "cell_type": "code",
     "collapsed": false,
     "input": [
      "ccompiler = CCompiler()"
     ],
     "language": "python",
     "metadata": {},
     "outputs": [],
     "prompt_number": 11
    },
    {
     "cell_type": "code",
     "collapsed": false,
     "input": [
      "ckernel = ccompiler.compile(simple_stencil)"
     ],
     "language": "python",
     "metadata": {},
     "outputs": [],
     "prompt_number": 12
    },
    {
     "cell_type": "code",
     "collapsed": false,
     "input": [
      "output[:] = 0\n",
      "ckernel(output, test_data)"
     ],
     "language": "python",
     "metadata": {},
     "outputs": [
      {
       "output_type": "stream",
       "stream": "stdout",
       "text": [
        "// <file: generated.c>\n",
        "\n",
        "#include <stdlib.h>\n",
        "#include <stdint.h>\n",
        "#define encode(index_0, index_1) ((index_0) * 8 + (index_1) * 1)\n",
        "\n",
        "void kernel(double* out, double* a) {\n",
        "    for (long index_0 = 1; index_0 < 7; index_0 += 1) {\n",
        "        for (long index_1 = 1; index_1 < 7; index_1 += 1) {\n",
        "            \n",
        "            out[encode(index_0, index_1)] = a[encode(index_0 + -1, index_1 + -1)] * 0.111111111111 + a[encode(index_0 + -1, index_1 + 0)] * 0.111111111111 + a[encode(index_0 + -1, index_1 + 1)] * 0.111111111111 + a[encode(index_0 + 0, index_1 + -1)] * 0.111111111111 + a[encode(index_0 + 0, index_1 + 0)] * 0.111111111111 + a[encode(index_0 + 0, index_1 + 1)] * 0.111111111111 + a[encode(index_0 + 1, index_1 + -1)] * 0.111111111111 + a[encode(index_0 + 1, index_1 + 0)] * 0.111111111111 + a[encode(index_0 + 1, index_1 + 1)] * 0.111111111111;\n",
        "\n",
        "        };\n",
        "    };\n",
        "};\n",
        "\n"
       ]
      }
     ],
     "prompt_number": 13
    },
    {
     "cell_type": "code",
     "collapsed": false,
     "input": [
      "output"
     ],
     "language": "python",
     "metadata": {},
     "outputs": [
      {
       "metadata": {},
       "output_type": "pyout",
       "prompt_number": 14,
       "text": [
        "array([[  0.,   0.,   0.,   0.,   0.,   0.,   0.,   0.],\n",
        "       [  0.,   9.,  10.,  11.,  12.,  13.,  14.,   0.],\n",
        "       [  0.,  17.,  18.,  19.,  20.,  21.,  22.,   0.],\n",
        "       [  0.,  25.,  26.,  27.,  28.,  29.,  30.,   0.],\n",
        "       [  0.,  33.,  34.,  35.,  36.,  37.,  38.,   0.],\n",
        "       [  0.,  41.,  42.,  43.,  44.,  45.,  46.,   0.],\n",
        "       [  0.,  49.,  50.,  51.,  52.,  53.,  54.,   0.],\n",
        "       [  0.,   0.,   0.,   0.,   0.,   0.,   0.,   0.]])"
       ]
      }
     ],
     "prompt_number": 14
    },
    {
     "cell_type": "code",
     "collapsed": false,
     "input": [
      "output.shape"
     ],
     "language": "python",
     "metadata": {},
     "outputs": [
      {
       "metadata": {},
       "output_type": "pyout",
       "prompt_number": 15,
       "text": [
        "(8, 8)"
       ]
      }
     ],
     "prompt_number": 15
    },
    {
     "cell_type": "code",
     "collapsed": false,
     "input": [],
     "language": "python",
     "metadata": {},
     "outputs": [],
     "prompt_number": 15
    },
    {
     "cell_type": "code",
     "collapsed": false,
     "input": [],
     "language": "python",
     "metadata": {},
     "outputs": [],
     "prompt_number": 15
    }
   ],
   "metadata": {}
  }
 ]
}
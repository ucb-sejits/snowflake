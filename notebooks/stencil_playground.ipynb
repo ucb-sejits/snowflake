{
 "cells": [
  {
   "cell_type": "code",
   "execution_count": 1,
   "metadata": {
    "collapsed": false
   },
   "outputs": [
    {
     "name": "stdout",
     "output_type": "stream",
     "text": [
      "ctree looking for relative cache directories named compiled, checking directories under this one\r\n",
      "\r\n"
     ]
    }
   ],
   "source": [
    "import sys\n",
    "import os\n",
    "import ast\n",
    "from snowflake.nodes import *\n",
    "from snowflake.stencil_compiler import PythonCompiler, CCompiler\n",
    "from ctree.frontend import dump\n",
    "import numpy as np\n",
    "import inspect\n",
    "!ctree -cc"
   ]
  },
  {
   "cell_type": "code",
   "execution_count": 2,
   "metadata": {
    "collapsed": false
   },
   "outputs": [],
   "source": [
    "compiler = PythonCompiler()"
   ]
  },
  {
   "cell_type": "code",
   "execution_count": 3,
   "metadata": {
    "collapsed": false
   },
   "outputs": [],
   "source": [
    "arr = WeightArray([\n",
    "    [1/9.0, 1/9.0, 1/9.0],\n",
    "    [1/9.0, 1/9.0, 1/9.0],\n",
    "    [1/9.0, 1/9.0, 1/9.0]\n",
    "])\n",
    "#arr2 = WeightArray([0])\n",
    "s = StencilComponent(\"a\", arr)\n",
    "simple_stencil = Stencil(s, \"out\", ((1, -1, 1), (1, -1, 1)))\n",
    "size = 34"
   ]
  },
  {
   "cell_type": "code",
   "execution_count": 4,
   "metadata": {
    "collapsed": false
   },
   "outputs": [],
   "source": [
    "output = np.zeros((size, size), dtype=np.double)"
   ]
  },
  {
   "cell_type": "code",
   "execution_count": 5,
   "metadata": {
    "collapsed": false
   },
   "outputs": [
    {
     "data": {
      "text/plain": [
       "array([[ 0.,  0.,  0., ...,  0.,  0.,  0.],\n",
       "       [ 0.,  0.,  0., ...,  0.,  0.,  0.],\n",
       "       [ 0.,  0.,  0., ...,  0.,  0.,  0.],\n",
       "       ..., \n",
       "       [ 0.,  0.,  0., ...,  0.,  0.,  0.],\n",
       "       [ 0.,  0.,  0., ...,  0.,  0.,  0.],\n",
       "       [ 0.,  0.,  0., ...,  0.,  0.,  0.]])"
      ]
     },
     "execution_count": 5,
     "metadata": {},
     "output_type": "execute_result"
    }
   ],
   "source": [
    "output"
   ]
  },
  {
   "cell_type": "code",
   "execution_count": 6,
   "metadata": {
    "collapsed": false
   },
   "outputs": [],
   "source": [
    "kernel = compiler.compile(simple_stencil)"
   ]
  },
  {
   "cell_type": "code",
   "execution_count": 7,
   "metadata": {
    "collapsed": false
   },
   "outputs": [],
   "source": [
    "test_data = np.arange(size*size, dtype=np.double).reshape(size, size)"
   ]
  },
  {
   "cell_type": "code",
   "execution_count": 8,
   "metadata": {
    "collapsed": false
   },
   "outputs": [],
   "source": [
    "kernel(output, test_data)"
   ]
  },
  {
   "cell_type": "code",
   "execution_count": 9,
   "metadata": {
    "collapsed": false
   },
   "outputs": [
    {
     "data": {
      "text/plain": [
       "array([[    0.,     0.,     0., ...,     0.,     0.,     0.],\n",
       "       [    0.,    35.,    36., ...,    65.,    66.,     0.],\n",
       "       [    0.,    69.,    70., ...,    99.,   100.,     0.],\n",
       "       ..., \n",
       "       [    0.,  1055.,  1056., ...,  1085.,  1086.,     0.],\n",
       "       [    0.,  1089.,  1090., ...,  1119.,  1120.,     0.],\n",
       "       [    0.,     0.,     0., ...,     0.,     0.,     0.]])"
      ]
     },
     "execution_count": 9,
     "metadata": {},
     "output_type": "execute_result"
    }
   ],
   "source": [
    "output"
   ]
  },
  {
   "cell_type": "code",
   "execution_count": 10,
   "metadata": {
    "collapsed": false
   },
   "outputs": [
    {
     "data": {
      "text/plain": [
       "array([[  0.00000000e+00,   1.00000000e+00,   2.00000000e+00, ...,\n",
       "          3.10000000e+01,   3.20000000e+01,   3.30000000e+01],\n",
       "       [  3.40000000e+01,   3.50000000e+01,   3.60000000e+01, ...,\n",
       "          6.50000000e+01,   6.60000000e+01,   6.70000000e+01],\n",
       "       [  6.80000000e+01,   6.90000000e+01,   7.00000000e+01, ...,\n",
       "          9.90000000e+01,   1.00000000e+02,   1.01000000e+02],\n",
       "       ..., \n",
       "       [  1.05400000e+03,   1.05500000e+03,   1.05600000e+03, ...,\n",
       "          1.08500000e+03,   1.08600000e+03,   1.08700000e+03],\n",
       "       [  1.08800000e+03,   1.08900000e+03,   1.09000000e+03, ...,\n",
       "          1.11900000e+03,   1.12000000e+03,   1.12100000e+03],\n",
       "       [  1.12200000e+03,   1.12300000e+03,   1.12400000e+03, ...,\n",
       "          1.15300000e+03,   1.15400000e+03,   1.15500000e+03]])"
      ]
     },
     "execution_count": 10,
     "metadata": {},
     "output_type": "execute_result"
    }
   ],
   "source": [
    "test_data"
   ]
  },
  {
   "cell_type": "code",
   "execution_count": 11,
   "metadata": {
    "collapsed": false
   },
   "outputs": [],
   "source": [
    "ccompiler = CCompiler()"
   ]
  },
  {
   "cell_type": "code",
   "execution_count": 12,
   "metadata": {
    "collapsed": false
   },
   "outputs": [],
   "source": [
    "ckernel = ccompiler.compile(simple_stencil)"
   ]
  },
  {
   "cell_type": "code",
   "execution_count": 13,
   "metadata": {
    "collapsed": false,
    "scrolled": false
   },
   "outputs": [],
   "source": [
    "output[:] = 0\n",
    "ckernel(output, test_data)"
   ]
  },
  {
   "cell_type": "code",
   "execution_count": 14,
   "metadata": {
    "collapsed": false
   },
   "outputs": [
    {
     "data": {
      "text/plain": [
       "array([[    0.,     0.,     0., ...,     0.,     0.,     0.],\n",
       "       [    0.,     0.,     0., ...,     0.,     0.,     0.],\n",
       "       [    0.,     0.,    70., ...,    99.,   100.,     0.],\n",
       "       ..., \n",
       "       [    0.,     0.,  1056., ...,  1085.,  1086.,     0.],\n",
       "       [    0.,     0.,  1090., ...,  1119.,  1120.,     0.],\n",
       "       [    0.,     0.,     0., ...,     0.,     0.,     0.]])"
      ]
     },
     "execution_count": 14,
     "metadata": {},
     "output_type": "execute_result"
    }
   ],
   "source": [
    "output"
   ]
  },
  {
   "cell_type": "code",
   "execution_count": 15,
   "metadata": {
    "collapsed": false
   },
   "outputs": [
    {
     "data": {
      "text/plain": [
       "(34, 34)"
      ]
     },
     "execution_count": 15,
     "metadata": {},
     "output_type": "execute_result"
    }
   ],
   "source": [
    "output.shape"
   ]
  },
  {
   "cell_type": "code",
   "execution_count": 17,
   "metadata": {
    "collapsed": false
   },
   "outputs": [
    {
     "data": {
      "text/plain": [
       "array([[   0.,    0.,    0.,    0.],\n",
       "       [   0.,    0.,    0.,    0.],\n",
       "       [   0.,    0.,   70.,   71.],\n",
       "       [   0.,    0.,  104.,  105.]])"
      ]
     },
     "execution_count": 17,
     "metadata": {},
     "output_type": "execute_result"
    }
   ],
   "source": [
    "output[0:4, 0:4]"
   ]
  },
  {
   "cell_type": "code",
   "execution_count": null,
   "metadata": {
    "collapsed": true
   },
   "outputs": [],
   "source": []
  }
 ],
 "metadata": {
  "kernelspec": {
   "display_name": "Python 2",
   "language": "python",
   "name": "python2"
  },
  "language_info": {
   "codemirror_mode": {
    "name": "ipython",
    "version": 2
   },
   "file_extension": ".py",
   "mimetype": "text/x-python",
   "name": "python",
   "nbconvert_exporter": "python",
   "pygments_lexer": "ipython2",
   "version": "2.7.10"
  }
 },
 "nbformat": 4,
 "nbformat_minor": 0
}

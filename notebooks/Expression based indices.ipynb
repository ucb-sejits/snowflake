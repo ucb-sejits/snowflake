{
 "cells": [
  {
   "cell_type": "code",
   "execution_count": 1,
   "metadata": {
    "collapsed": true
   },
   "outputs": [],
   "source": [
    "from snowflake.vector import Vector\n",
    "from snowflake.compiler_utils import *\n",
    "from ctree.frontend import dump"
   ]
  },
  {
   "cell_type": "code",
   "execution_count": 2,
   "metadata": {
    "collapsed": false
   },
   "outputs": [],
   "source": [
    "v = Vector.index_vector(3)"
   ]
  },
  {
   "cell_type": "code",
   "execution_count": 3,
   "metadata": {
    "collapsed": false
   },
   "outputs": [
    {
     "data": {
      "text/plain": [
       "(index_0, index_1, index_2)"
      ]
     },
     "execution_count": 3,
     "metadata": {},
     "output_type": "execute_result"
    }
   ],
   "source": [
    "v"
   ]
  },
  {
   "cell_type": "code",
   "execution_count": 4,
   "metadata": {
    "collapsed": false
   },
   "outputs": [
    {
     "data": {
      "text/plain": [
       "(3*index_0 + 5, 3*index_1 + 5, 3*index_2 + 5)"
      ]
     },
     "execution_count": 4,
     "metadata": {},
     "output_type": "execute_result"
    }
   ],
   "source": [
    "3 * v + 5"
   ]
  },
  {
   "cell_type": "code",
   "execution_count": 5,
   "metadata": {
    "collapsed": false
   },
   "outputs": [
    {
     "data": {
      "text/plain": [
       "<_ast.Tuple at 0x113259290>"
      ]
     },
     "execution_count": 5,
     "metadata": {},
     "output_type": "execute_result"
    }
   ],
   "source": [
    "index_to_ast(3*v+5)"
   ]
  },
  {
   "cell_type": "code",
   "execution_count": 6,
   "metadata": {
    "collapsed": false
   },
   "outputs": [
    {
     "name": "stdout",
     "output_type": "stream",
     "text": [
      "Tuple(elts=[\n",
      "    BinOp(left=Num(n=5), op=Add(), right=BinOp(left=Num(n=3), op=Mult(), right=Name(id='index_0', ctx=Load()))),\n",
      "    BinOp(left=Num(n=5), op=Add(), right=BinOp(left=Num(n=3), op=Mult(), right=Name(id='index_1', ctx=Load()))),\n",
      "    BinOp(left=Num(n=5), op=Add(), right=BinOp(left=Num(n=3), op=Mult(), right=Name(id='index_2', ctx=Load()))),\n",
      "  ], ctx=Load())\n"
     ]
    }
   ],
   "source": [
    "print(dump(index_to_ast(3*v+5)))"
   ]
  },
  {
   "cell_type": "code",
   "execution_count": 7,
   "metadata": {
    "collapsed": false
   },
   "outputs": [
    {
     "name": "stdout",
     "output_type": "stream",
     "text": [
      "Tuple(elts=[\n",
      "    BinOp(left=BinOp(left=Num(n=5), op=Div(), right=Num(n=4)), op=Add(), right=BinOp(left=BinOp(left=Num(n=3), op=Div(), right=Num(n=4)), op=Mult(), right=Name(id='index_0', ctx=Load()))),\n",
      "    BinOp(left=BinOp(left=Num(n=5), op=Div(), right=Num(n=4)), op=Add(), right=BinOp(left=BinOp(left=Num(n=3), op=Div(), right=Num(n=4)), op=Mult(), right=Name(id='index_1', ctx=Load()))),\n",
      "    BinOp(left=BinOp(left=Num(n=5), op=Div(), right=Num(n=4)), op=Add(), right=BinOp(left=BinOp(left=Num(n=3), op=Div(), right=Num(n=4)), op=Mult(), right=Name(id='index_2', ctx=Load()))),\n",
      "  ], ctx=Load())\n"
     ]
    }
   ],
   "source": [
    "print(dump(index_to_ast((3*v+5)/4)))"
   ]
  },
  {
   "cell_type": "code",
   "execution_count": null,
   "metadata": {
    "collapsed": true
   },
   "outputs": [],
   "source": []
  }
 ],
 "metadata": {
  "kernelspec": {
   "display_name": "Python 2",
   "language": "python",
   "name": "python2"
  },
  "language_info": {
   "codemirror_mode": {
    "name": "ipython",
    "version": 2
   },
   "file_extension": ".py",
   "mimetype": "text/x-python",
   "name": "python",
   "nbconvert_exporter": "python",
   "pygments_lexer": "ipython2",
   "version": "2.7.10"
  }
 },
 "nbformat": 4,
 "nbformat_minor": 0
}

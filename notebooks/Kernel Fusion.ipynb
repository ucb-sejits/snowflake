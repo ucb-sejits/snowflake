{
 "metadata": {
  "name": "",
  "signature": "sha256:fded79acc4f0882f51c06812daf538b192d2ce7823102fb7519aef6759ce3f41"
 },
 "nbformat": 3,
 "nbformat_minor": 0,
 "worksheets": [
  {
   "cells": [
    {
     "cell_type": "code",
     "collapsed": false,
     "input": [
      "from __future__ import division\n",
      "import snowflake\n",
      "from snowflake.nodes import *\n",
      "from snowflake.stencil_compiler import *\n",
      "import numpy as np\n",
      "import copy\n",
      "!ctree -cc"
     ],
     "language": "python",
     "metadata": {},
     "outputs": [
      {
       "output_type": "stream",
       "stream": "stdout",
       "text": [
        "ctree looking for relative cache directories named compiled, checking directories under this one\r\n",
        "\r\n"
       ]
      }
     ],
     "prompt_number": 1
    },
    {
     "cell_type": "code",
     "collapsed": false,
     "input": [
      "w1 = WeightArray([1, 2, 3])\n",
      "w2 = WeightArray([3, 2, 1])\n",
      "sc1 = StencilComponent('a', w1)\n",
      "sc2 = StencilComponent('b', w2)\n",
      "s1 = Stencil(sc1, 'out', ((1, -1),))\n",
      "s2 = Stencil(sc2, 'out', ((1, -1),))\n",
      "swap = VariableUpdate(b='out', out='b')\n",
      "transition = VariableUpdate(b='out', out='b')\n",
      "combined = StencilGroup([swap, s1, swap, s2])"
     ],
     "language": "python",
     "metadata": {},
     "outputs": [],
     "prompt_number": 2
    },
    {
     "cell_type": "code",
     "collapsed": false,
     "input": [
      "copy.deepcopy(s1)"
     ],
     "language": "python",
     "metadata": {},
     "outputs": [
      {
       "metadata": {},
       "output_type": "pyout",
       "prompt_number": 3,
       "text": [
        "<snowflake.nodes.Stencil at 0x10e4262d0>"
       ]
      }
     ],
     "prompt_number": 3
    },
    {
     "cell_type": "code",
     "collapsed": false,
     "input": [
      "compiler = CCompiler()"
     ],
     "language": "python",
     "metadata": {},
     "outputs": [],
     "prompt_number": 4
    },
    {
     "cell_type": "code",
     "collapsed": false,
     "input": [
      "sk1 = compiler.compile(s1)\n",
      "sk2 = compiler.compile(s2)\n",
      "ck = compiler.compile(combined)"
     ],
     "language": "python",
     "metadata": {},
     "outputs": [],
     "prompt_number": 5
    },
    {
     "cell_type": "code",
     "collapsed": false,
     "input": [
      "sk1"
     ],
     "language": "python",
     "metadata": {},
     "outputs": [
      {
       "metadata": {},
       "output_type": "pyout",
       "prompt_number": 6,
       "text": [
        "<snowflake.stencil_compiler.LazySpecializedKernel at 0x110927d90>"
       ]
      }
     ],
     "prompt_number": 6
    },
    {
     "cell_type": "code",
     "collapsed": false,
     "input": [
      "data = np.arange(10)\n",
      "tmp = np.zeros_like(data)\n",
      "out = np.zeros_like(data)"
     ],
     "language": "python",
     "metadata": {},
     "outputs": [],
     "prompt_number": 7
    },
    {
     "cell_type": "code",
     "collapsed": false,
     "input": [
      "import inspect"
     ],
     "language": "python",
     "metadata": {},
     "outputs": [],
     "prompt_number": 8
    },
    {
     "cell_type": "code",
     "collapsed": false,
     "input": [
      "ck.arg_spec"
     ],
     "language": "python",
     "metadata": {},
     "outputs": [
      {
       "metadata": {},
       "output_type": "pyout",
       "prompt_number": 9,
       "text": [
        "['out', 'a', 'b']"
       ]
      }
     ],
     "prompt_number": 9
    },
    {
     "cell_type": "code",
     "collapsed": false,
     "input": [
      "ck(out, data, tmp)"
     ],
     "language": "python",
     "metadata": {},
     "outputs": [],
     "prompt_number": 10
    },
    {
     "cell_type": "code",
     "collapsed": false,
     "input": [
      "out"
     ],
     "language": "python",
     "metadata": {},
     "outputs": [
      {
       "metadata": {},
       "output_type": "pyout",
       "prompt_number": 11,
       "text": [
        "array([  0,  30,  72, 108, 144, 180, 216, 252, 232,   0])"
       ]
      }
     ],
     "prompt_number": 11
    },
    {
     "cell_type": "code",
     "collapsed": false,
     "input": [
      "data = np.arange(10)\n",
      "tmp = np.zeros_like(data)\n",
      "out = np.zeros_like(data)"
     ],
     "language": "python",
     "metadata": {},
     "outputs": [],
     "prompt_number": 12
    },
    {
     "cell_type": "code",
     "collapsed": false,
     "input": [
      "sk1(tmp, data)\n",
      "sk2(out, tmp)"
     ],
     "language": "python",
     "metadata": {},
     "outputs": [],
     "prompt_number": 13
    },
    {
     "cell_type": "code",
     "collapsed": false,
     "input": [
      "out"
     ],
     "language": "python",
     "metadata": {},
     "outputs": [
      {
       "metadata": {},
       "output_type": "pyout",
       "prompt_number": 14,
       "text": [
        "array([  0,  30,  72, 108, 144, 180, 216, 252, 232,   0])"
       ]
      }
     ],
     "prompt_number": 14
    },
    {
     "cell_type": "code",
     "collapsed": false,
     "input": [
      "average_sc = StencilComponent('a', WeightArray([1/4, 1/2, 1/4]))\n",
      "average_stencil = Stencil(average_sc, 'out', ((1, -1, 1),))\n",
      "average_kern = compiler.compile(average_stencil)"
     ],
     "language": "python",
     "metadata": {},
     "outputs": [],
     "prompt_number": 15
    },
    {
     "cell_type": "code",
     "collapsed": false,
     "input": [
      "data"
     ],
     "language": "python",
     "metadata": {},
     "outputs": [
      {
       "metadata": {},
       "output_type": "pyout",
       "prompt_number": 16,
       "text": [
        "array([0, 1, 2, 3, 4, 5, 6, 7, 8, 9])"
       ]
      }
     ],
     "prompt_number": 16
    },
    {
     "cell_type": "code",
     "collapsed": false,
     "input": [
      "in_out_swap = VariableUpdate(a='out', out='a')\n",
      "repeated_smooth = StencilGroup([average_stencil, in_out_swap]*9 + [average_stencil])\n",
      "repeated_smooth_kern = compiler.compile(repeated_smooth)"
     ],
     "language": "python",
     "metadata": {},
     "outputs": [],
     "prompt_number": 17
    },
    {
     "cell_type": "code",
     "collapsed": false,
     "input": [
      "data = np.arange(10, dtype=np.float)\n",
      "tmp = np.zeros_like(data)"
     ],
     "language": "python",
     "metadata": {},
     "outputs": [],
     "prompt_number": 18
    },
    {
     "cell_type": "code",
     "collapsed": false,
     "input": [
      "average_kern(tmp, data)"
     ],
     "language": "python",
     "metadata": {},
     "outputs": [],
     "prompt_number": 19
    },
    {
     "cell_type": "code",
     "collapsed": false,
     "input": [
      "tmp"
     ],
     "language": "python",
     "metadata": {},
     "outputs": [
      {
       "metadata": {},
       "output_type": "pyout",
       "prompt_number": 20,
       "text": [
        "array([ 0.,  1.,  2.,  3.,  4.,  5.,  6.,  7.,  8.,  0.])"
       ]
      }
     ],
     "prompt_number": 20
    },
    {
     "cell_type": "code",
     "collapsed": false,
     "input": [
      "data"
     ],
     "language": "python",
     "metadata": {},
     "outputs": [
      {
       "metadata": {},
       "output_type": "pyout",
       "prompt_number": 21,
       "text": [
        "array([ 0.,  1.,  2.,  3.,  4.,  5.,  6.,  7.,  8.,  9.])"
       ]
      }
     ],
     "prompt_number": 21
    },
    {
     "cell_type": "code",
     "collapsed": false,
     "input": [
      "sum(data)"
     ],
     "language": "python",
     "metadata": {},
     "outputs": [
      {
       "metadata": {},
       "output_type": "pyout",
       "prompt_number": 22,
       "text": [
        "45.0"
       ]
      }
     ],
     "prompt_number": 22
    },
    {
     "cell_type": "code",
     "collapsed": false,
     "input": [
      "np.convolve([1/4, 1/2, 1/4], np.arange(10, dtype=np.float), mode='valid')"
     ],
     "language": "python",
     "metadata": {},
     "outputs": [
      {
       "metadata": {},
       "output_type": "pyout",
       "prompt_number": 23,
       "text": [
        "array([ 1.,  2.,  3.,  4.,  5.,  6.,  7.,  8.])"
       ]
      }
     ],
     "prompt_number": 23
    },
    {
     "cell_type": "code",
     "collapsed": false,
     "input": [
      "data = np.arange(100, dtype=np.float)\n",
      "tmp = np.zeros_like(data)"
     ],
     "language": "python",
     "metadata": {},
     "outputs": [],
     "prompt_number": 24
    },
    {
     "cell_type": "code",
     "collapsed": false,
     "input": [
      "repeated_smooth_kern(tmp, data)"
     ],
     "language": "python",
     "metadata": {},
     "outputs": [],
     "prompt_number": 25
    },
    {
     "cell_type": "code",
     "collapsed": false,
     "input": [
      "tmp"
     ],
     "language": "python",
     "metadata": {},
     "outputs": [
      {
       "metadata": {},
       "output_type": "pyout",
       "prompt_number": 26,
       "text": [
        "array([  0.        ,   1.        ,   2.        ,   3.        ,\n",
        "         4.        ,   5.        ,   6.        ,   7.        ,\n",
        "         8.        ,   9.        ,  10.        ,  11.        ,\n",
        "        12.        ,  13.        ,  14.        ,  15.        ,\n",
        "        16.        ,  17.        ,  18.        ,  19.        ,\n",
        "        20.        ,  21.        ,  22.        ,  23.        ,\n",
        "        24.        ,  25.        ,  26.        ,  27.        ,\n",
        "        28.        ,  29.        ,  30.        ,  31.        ,\n",
        "        32.        ,  33.        ,  34.        ,  35.        ,\n",
        "        36.        ,  37.        ,  38.        ,  39.        ,\n",
        "        40.        ,  41.        ,  42.        ,  43.        ,\n",
        "        44.        ,  45.        ,  46.        ,  47.        ,\n",
        "        48.        ,  49.        ,  50.        ,  51.        ,\n",
        "        52.        ,  53.        ,  54.        ,  55.        ,\n",
        "        56.        ,  57.        ,  58.        ,  59.        ,\n",
        "        60.        ,  61.        ,  62.        ,  63.        ,\n",
        "        64.        ,  65.        ,  66.        ,  67.        ,\n",
        "        68.        ,  69.        ,  70.        ,  71.        ,\n",
        "        72.        ,  73.        ,  74.        ,  75.        ,\n",
        "        76.        ,  77.        ,  78.        ,  79.        ,\n",
        "        80.        ,  81.        ,  82.        ,  83.        ,\n",
        "        84.        ,  85.        ,  86.        ,  87.        ,\n",
        "        88.        ,  89.        ,  90.        ,  90.99848938,\n",
        "        91.97885132,  92.83987427,  93.22958374,  92.17514038,\n",
        "        88.54660034,  78.38613892,  74.86032104,   0.        ])"
       ]
      }
     ],
     "prompt_number": 26
    },
    {
     "cell_type": "code",
     "collapsed": false,
     "input": [
      "data"
     ],
     "language": "python",
     "metadata": {},
     "outputs": [
      {
       "metadata": {},
       "output_type": "pyout",
       "prompt_number": 27,
       "text": [
        "array([  0.        ,   1.        ,   2.        ,   3.        ,\n",
        "         4.        ,   5.        ,   6.        ,   7.        ,\n",
        "         8.        ,   9.        ,  10.        ,  11.        ,\n",
        "        12.        ,  13.        ,  14.        ,  15.        ,\n",
        "        16.        ,  17.        ,  18.        ,  19.        ,\n",
        "        20.        ,  21.        ,  22.        ,  23.        ,\n",
        "        24.        ,  25.        ,  26.        ,  27.        ,\n",
        "        28.        ,  29.        ,  30.        ,  31.        ,\n",
        "        32.        ,  33.        ,  34.        ,  35.        ,\n",
        "        36.        ,  37.        ,  38.        ,  39.        ,\n",
        "        40.        ,  41.        ,  42.        ,  43.        ,\n",
        "        44.        ,  45.        ,  46.        ,  47.        ,\n",
        "        48.        ,  49.        ,  50.        ,  51.        ,\n",
        "        52.        ,  53.        ,  54.        ,  55.        ,\n",
        "        56.        ,  57.        ,  58.        ,  59.        ,\n",
        "        60.        ,  61.        ,  62.        ,  63.        ,\n",
        "        64.        ,  65.        ,  66.        ,  67.        ,\n",
        "        68.        ,  69.        ,  70.        ,  71.        ,\n",
        "        72.        ,  73.        ,  74.        ,  75.        ,\n",
        "        76.        ,  77.        ,  78.        ,  79.        ,\n",
        "        80.        ,  81.        ,  82.        ,  83.        ,\n",
        "        84.        ,  85.        ,  86.        ,  87.        ,\n",
        "        88.        ,  89.        ,  89.99962234,  90.99395752,\n",
        "        91.94901657,  92.7220459 ,  92.86854553,  91.53161621,\n",
        "        86.91362   ,  80.0447998 ,  57.02669525,  99.        ])"
       ]
      }
     ],
     "prompt_number": 27
    },
    {
     "cell_type": "code",
     "collapsed": false,
     "input": [
      "data_copy = np.arange(100, dtype=np.float)\n",
      "tmp_copy = np.zeros_like(data_copy)"
     ],
     "language": "python",
     "metadata": {},
     "outputs": [],
     "prompt_number": 28
    },
    {
     "cell_type": "code",
     "collapsed": false,
     "input": [
      "for i in range(10):\n",
      "    tmp_copy = np.convolve([1/4, 1/2, 1/4], data_copy, mode='valid')\n",
      "    data_copy, tmp_copy = tmp_copy, data_copy"
     ],
     "language": "python",
     "metadata": {},
     "outputs": [],
     "prompt_number": 29
    },
    {
     "cell_type": "code",
     "collapsed": false,
     "input": [
      "data_copy"
     ],
     "language": "python",
     "metadata": {},
     "outputs": [
      {
       "metadata": {},
       "output_type": "pyout",
       "prompt_number": 30,
       "text": [
        "array([ 10.,  11.,  12.,  13.,  14.,  15.,  16.,  17.,  18.,  19.,  20.,\n",
        "        21.,  22.,  23.,  24.,  25.,  26.,  27.,  28.,  29.,  30.,  31.,\n",
        "        32.,  33.,  34.,  35.,  36.,  37.,  38.,  39.,  40.,  41.,  42.,\n",
        "        43.,  44.,  45.,  46.,  47.,  48.,  49.,  50.,  51.,  52.,  53.,\n",
        "        54.,  55.,  56.,  57.,  58.,  59.,  60.,  61.,  62.,  63.,  64.,\n",
        "        65.,  66.,  67.,  68.,  69.,  70.,  71.,  72.,  73.,  74.,  75.,\n",
        "        76.,  77.,  78.,  79.,  80.,  81.,  82.,  83.,  84.,  85.,  86.,\n",
        "        87.,  88.,  89.])"
       ]
      }
     ],
     "prompt_number": 30
    },
    {
     "cell_type": "code",
     "collapsed": false,
     "input": [
      "tmp_copy"
     ],
     "language": "python",
     "metadata": {},
     "outputs": [
      {
       "metadata": {},
       "output_type": "pyout",
       "prompt_number": 31,
       "text": [
        "array([  9.,  10.,  11.,  12.,  13.,  14.,  15.,  16.,  17.,  18.,  19.,\n",
        "        20.,  21.,  22.,  23.,  24.,  25.,  26.,  27.,  28.,  29.,  30.,\n",
        "        31.,  32.,  33.,  34.,  35.,  36.,  37.,  38.,  39.,  40.,  41.,\n",
        "        42.,  43.,  44.,  45.,  46.,  47.,  48.,  49.,  50.,  51.,  52.,\n",
        "        53.,  54.,  55.,  56.,  57.,  58.,  59.,  60.,  61.,  62.,  63.,\n",
        "        64.,  65.,  66.,  67.,  68.,  69.,  70.,  71.,  72.,  73.,  74.,\n",
        "        75.,  76.,  77.,  78.,  79.,  80.,  81.,  82.,  83.,  84.,  85.,\n",
        "        86.,  87.,  88.,  89.,  90.])"
       ]
      }
     ],
     "prompt_number": 31
    },
    {
     "cell_type": "code",
     "collapsed": false,
     "input": [
      "len(data_copy)"
     ],
     "language": "python",
     "metadata": {},
     "outputs": [
      {
       "metadata": {},
       "output_type": "pyout",
       "prompt_number": 32,
       "text": [
        "80"
       ]
      }
     ],
     "prompt_number": 32
    },
    {
     "cell_type": "code",
     "collapsed": false,
     "input": [
      "all(data[10:-10] == data_copy)"
     ],
     "language": "python",
     "metadata": {},
     "outputs": [
      {
       "metadata": {},
       "output_type": "pyout",
       "prompt_number": 33,
       "text": [
        "True"
       ]
      }
     ],
     "prompt_number": 33
    },
    {
     "cell_type": "code",
     "collapsed": false,
     "input": [],
     "language": "python",
     "metadata": {},
     "outputs": [],
     "prompt_number": 33
    },
    {
     "cell_type": "code",
     "collapsed": false,
     "input": [],
     "language": "python",
     "metadata": {},
     "outputs": [],
     "prompt_number": 33
    }
   ],
   "metadata": {}
  }
 ]
}
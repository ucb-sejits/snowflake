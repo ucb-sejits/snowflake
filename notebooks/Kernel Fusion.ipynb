{
 "metadata": {
  "name": "",
  "signature": "sha256:3a13e6fbe033c0772139015f5adb85deb9281c3ede3c84ec692c2c80d7cb174e"
 },
 "nbformat": 3,
 "nbformat_minor": 0,
 "worksheets": [
  {
   "cells": [
    {
     "cell_type": "code",
     "collapsed": false,
     "input": [
      "import stencil\n",
      "from stencil.nodes import *\n",
      "from stencil.stencil_compiler import *\n",
      "import numpy as np\n",
      "!ctree -cc"
     ],
     "language": "python",
     "metadata": {},
     "outputs": [
      {
       "output_type": "stream",
       "stream": "stdout",
       "text": [
        "ctree looking for relative cache directories named compiled, checking directories under this one\r\n",
        "\r\n"
       ]
      }
     ],
     "prompt_number": 1
    },
    {
     "cell_type": "code",
     "collapsed": false,
     "input": [
      "w1 = WeightArray([1, 2, 3])\n",
      "w2 = WeightArray([3, 2, 1])\n",
      "sc1 = StencilComponent('a', w1)\n",
      "sc2 = StencilComponent('b', w2)\n",
      "s1 = Stencil(sc1, 'out', ((1, -1),))\n",
      "s2 = Stencil(sc2, 'out', ((1, -1),))\n",
      "swap = VariableUpdate(b='out', out='b')\n",
      "transition = VariableUpdate(b='out', out='b')\n",
      "combined = StencilGroup([swap, s1, swap, s2])"
     ],
     "language": "python",
     "metadata": {},
     "outputs": [],
     "prompt_number": 2
    },
    {
     "cell_type": "code",
     "collapsed": false,
     "input": [
      "compiler = CCompiler()"
     ],
     "language": "python",
     "metadata": {},
     "outputs": [],
     "prompt_number": 3
    },
    {
     "cell_type": "code",
     "collapsed": false,
     "input": [
      "sk1 = compiler.compile(s1)\n",
      "sk2 = compiler.compile(s2)\n",
      "ck = compiler.compile(combined)"
     ],
     "language": "python",
     "metadata": {},
     "outputs": [],
     "prompt_number": 4
    },
    {
     "cell_type": "code",
     "collapsed": false,
     "input": [
      "sk1"
     ],
     "language": "python",
     "metadata": {},
     "outputs": [
      {
       "metadata": {},
       "output_type": "pyout",
       "prompt_number": 5,
       "text": [
        "<stencil.stencil_compiler.LazySpecializedKernel at 0x10dfaad90>"
       ]
      }
     ],
     "prompt_number": 5
    },
    {
     "cell_type": "code",
     "collapsed": false,
     "input": [
      "data = np.arange(10)\n",
      "tmp = np.zeros_like(data)\n",
      "out = np.zeros_like(data)"
     ],
     "language": "python",
     "metadata": {},
     "outputs": [],
     "prompt_number": 6
    },
    {
     "cell_type": "code",
     "collapsed": false,
     "input": [
      "import inspect"
     ],
     "language": "python",
     "metadata": {},
     "outputs": [],
     "prompt_number": 7
    },
    {
     "cell_type": "code",
     "collapsed": false,
     "input": [
      "ck.arg_spec"
     ],
     "language": "python",
     "metadata": {},
     "outputs": [
      {
       "metadata": {},
       "output_type": "pyout",
       "prompt_number": 8,
       "text": [
        "['out', 'a', 'b']"
       ]
      }
     ],
     "prompt_number": 8
    },
    {
     "cell_type": "code",
     "collapsed": false,
     "input": [
      "ck(out, data, tmp)"
     ],
     "language": "python",
     "metadata": {},
     "outputs": [],
     "prompt_number": 9
    },
    {
     "cell_type": "code",
     "collapsed": false,
     "input": [
      "out"
     ],
     "language": "python",
     "metadata": {},
     "outputs": [
      {
       "metadata": {},
       "output_type": "pyout",
       "prompt_number": 10,
       "text": [
        "array([  0,  30,  72, 108, 144, 180, 216, 252, 232,   0])"
       ]
      }
     ],
     "prompt_number": 10
    },
    {
     "cell_type": "code",
     "collapsed": false,
     "input": [
      "sk1(tmp, data)\n",
      "sk2(out, tmp)"
     ],
     "language": "python",
     "metadata": {},
     "outputs": [],
     "prompt_number": 11
    },
    {
     "cell_type": "code",
     "collapsed": false,
     "input": [
      "out"
     ],
     "language": "python",
     "metadata": {},
     "outputs": [
      {
       "metadata": {},
       "output_type": "pyout",
       "prompt_number": 12,
       "text": [
        "array([  0,  30,  72, 108, 144, 180, 216, 252, 232,   0])"
       ]
      }
     ],
     "prompt_number": 12
    },
    {
     "cell_type": "code",
     "collapsed": false,
     "input": [],
     "language": "python",
     "metadata": {},
     "outputs": [],
     "prompt_number": 12
    }
   ],
   "metadata": {}
  }
 ]
}
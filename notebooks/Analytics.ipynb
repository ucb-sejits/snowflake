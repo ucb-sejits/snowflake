{
 "cells": [
  {
   "cell_type": "code",
   "execution_count": 1,
   "metadata": {
    "collapsed": false
   },
   "outputs": [
    {
     "name": "stdout",
     "output_type": "stream",
     "text": [
      "ctree looking for relative cache directories named compiled, checking directories under this one\r\n",
      "\r\n"
     ]
    }
   ],
   "source": [
    "from snowflake.nodes import *\n",
    "from snowflake.stencil_compiler import *\n",
    "from snowflake.analytics import *\n",
    "import numpy as np\n",
    "!ctree -cc\n",
    "compiler = CCompiler()"
   ]
  },
  {
   "cell_type": "code",
   "execution_count": 2,
   "metadata": {
    "collapsed": true
   },
   "outputs": [],
   "source": [
    "red1 = RectangularDomain(((2, -1, 2), (1, -1, 2)))\n",
    "red2 = RectangularDomain(((1, -1, 2), (2, -1, 2)))\n",
    "red = red1 & red2"
   ]
  },
  {
   "cell_type": "code",
   "execution_count": 3,
   "metadata": {
    "collapsed": false
   },
   "outputs": [
    {
     "name": "stdout",
     "output_type": "stream",
     "text": [
      "<(2, 1), (-1, -1), (2, 2)> U <(1, 2), (-1, -1), (2, 2)>\n"
     ]
    }
   ],
   "source": [
    "print(red)"
   ]
  },
  {
   "cell_type": "code",
   "execution_count": 4,
   "metadata": {
    "collapsed": true
   },
   "outputs": [],
   "source": [
    "inplace = StencilComponent('a', WeightArray([\n",
    "            [0, 1, 0],\n",
    "            [1, -4, 1],\n",
    "            [0, 1, 0]\n",
    "        ]))"
   ]
  },
  {
   "cell_type": "code",
   "execution_count": 5,
   "metadata": {
    "collapsed": true
   },
   "outputs": [],
   "source": [
    "stencil = Stencil(inplace, 'a', red)"
   ]
  },
  {
   "cell_type": "code",
   "execution_count": 6,
   "metadata": {
    "collapsed": false
   },
   "outputs": [
    {
     "data": {
      "text/plain": [
       "array([[  0.,   0.,   0.,   0.,   0.,   0.,   0.,   0.,   0.,   0.],\n",
       "       [  0.,   0.,   1.,   2.,   3.,   4.,   5.,   6.,   7.,   0.],\n",
       "       [  0.,   8.,   9.,  10.,  11.,  12.,  13.,  14.,  15.,   0.],\n",
       "       [  0.,  16.,  17.,  18.,  19.,  20.,  21.,  22.,  23.,   0.],\n",
       "       [  0.,  24.,  25.,  26.,  27.,  28.,  29.,  30.,  31.,   0.],\n",
       "       [  0.,  32.,  33.,  34.,  35.,  36.,  37.,  38.,  39.,   0.],\n",
       "       [  0.,  40.,  41.,  42.,  43.,  44.,  45.,  46.,  47.,   0.],\n",
       "       [  0.,  48.,  49.,  50.,  51.,  52.,  53.,  54.,  55.,   0.],\n",
       "       [  0.,  56.,  57.,  58.,  59.,  60.,  61.,  62.,  63.,   0.],\n",
       "       [  0.,   0.,   0.,   0.,   0.,   0.,   0.,   0.,   0.,   0.]])"
      ]
     },
     "execution_count": 6,
     "metadata": {},
     "output_type": "execute_result"
    }
   ],
   "source": [
    "data = np.zeros((10, 10))\n",
    "data[1:-1, 1:-1] = np.arange(64).reshape((8, 8))\n",
    "data"
   ]
  },
  {
   "cell_type": "code",
   "execution_count": 7,
   "metadata": {
    "collapsed": true
   },
   "outputs": [],
   "source": [
    "sk = compiler.compile(stencil)"
   ]
  },
  {
   "cell_type": "code",
   "execution_count": 8,
   "metadata": {
    "collapsed": true
   },
   "outputs": [],
   "source": [
    "sk(data)"
   ]
  },
  {
   "cell_type": "code",
   "execution_count": 9,
   "metadata": {
    "collapsed": false
   },
   "outputs": [
    {
     "data": {
      "text/plain": [
       "array([[   0.,  -34.,    2.,  -38.,    4.,  -42.,    6.,  -54.],\n",
       "       [ -55.,    9.,  -52.,   11.,  -56.,   13.,  -60.,   15.],\n",
       "       [  16.,  -66.,   18.,  -70.,   20.,  -74.,   22., -102.],\n",
       "       [-103.,   25.,  -84.,   27.,  -88.,   29.,  -92.,   31.],\n",
       "       [  32.,  -98.,   34., -102.,   36., -106.,   38., -150.],\n",
       "       [-151.,   41., -116.,   43., -120.,   45., -124.,   47.],\n",
       "       [  48., -130.,   50., -134.,   52., -138.,   54., -198.],\n",
       "       [  57.,   57.,  116.,   59.,  120.,   61.,  124.,   63.]])"
      ]
     },
     "execution_count": 9,
     "metadata": {},
     "output_type": "execute_result"
    }
   ],
   "source": [
    "data[1:-1, 1:-1]"
   ]
  },
  {
   "cell_type": "code",
   "execution_count": 10,
   "metadata": {
    "collapsed": false
   },
   "outputs": [
    {
     "name": "stdout",
     "output_type": "stream",
     "text": [
      "Analyzing stencil over <(2, 1), (-1, -1), (2, 2)> U <(1, 2), (-1, -1), (2, 2)>\n",
      "Analyzing (0, 1) over spaces <(2, 1), (-1, -1), (2, 2)>\t<(2, 1), (-1, -1), (2, 2)>\n",
      "Analyzing (0, 1) over spaces <(2, 1), (-1, -1), (2, 2)>\t<(1, 2), (-1, -1), (2, 2)>\n",
      "Analyzing (0, 1) over spaces <(1, 2), (-1, -1), (2, 2)>\t<(1, 2), (-1, -1), (2, 2)>\n",
      "Analyzing (0, -1) over spaces <(2, 1), (-1, -1), (2, 2)>\t<(2, 1), (-1, -1), (2, 2)>\n",
      "Analyzing (0, -1) over spaces <(2, 1), (-1, -1), (2, 2)>\t<(1, 2), (-1, -1), (2, 2)>\n",
      "Analyzing (0, -1) over spaces <(1, 2), (-1, -1), (2, 2)>\t<(1, 2), (-1, -1), (2, 2)>\n",
      "Analyzing (1, 0) over spaces <(2, 1), (-1, -1), (2, 2)>\t<(2, 1), (-1, -1), (2, 2)>\n",
      "Analyzing (1, 0) over spaces <(2, 1), (-1, -1), (2, 2)>\t<(1, 2), (-1, -1), (2, 2)>\n",
      "Analyzing (1, 0) over spaces <(1, 2), (-1, -1), (2, 2)>\t<(1, 2), (-1, -1), (2, 2)>\n",
      "Analyzing (0, 0) over spaces <(2, 1), (-1, -1), (2, 2)>\t<(1, 2), (-1, -1), (2, 2)>\n",
      "Analyzing (-1, 0) over spaces <(2, 1), (-1, -1), (2, 2)>\t<(2, 1), (-1, -1), (2, 2)>\n",
      "Analyzing (-1, 0) over spaces <(2, 1), (-1, -1), (2, 2)>\t<(1, 2), (-1, -1), (2, 2)>\n",
      "Analyzing (-1, 0) over spaces <(1, 2), (-1, -1), (2, 2)>\t<(1, 2), (-1, -1), (2, 2)>\n"
     ]
    },
    {
     "data": {
      "text/plain": [
       "True"
      ]
     },
     "execution_count": 10,
     "metadata": {},
     "output_type": "execute_result"
    }
   ],
   "source": [
    "validate_stencil(stencil, True)"
   ]
  },
  {
   "cell_type": "code",
   "execution_count": null,
   "metadata": {
    "collapsed": true
   },
   "outputs": [],
   "source": []
  }
 ],
 "metadata": {
  "kernelspec": {
   "display_name": "Python 2",
   "language": "python",
   "name": "python2"
  },
  "language_info": {
   "codemirror_mode": {
    "name": "ipython",
    "version": 2
   },
   "file_extension": ".py",
   "mimetype": "text/x-python",
   "name": "python",
   "nbconvert_exporter": "python",
   "pygments_lexer": "ipython2",
   "version": "2.7.10"
  }
 },
 "nbformat": 4,
 "nbformat_minor": 0
}

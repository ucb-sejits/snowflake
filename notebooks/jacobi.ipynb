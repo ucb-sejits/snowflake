{
 "metadata": {
  "name": "",
  "signature": "sha256:0c780d1e76ca1dd80bb054cc3b45d87e4b6b11a20f8d36a509b98c33bf9dc5f5"
 },
 "nbformat": 3,
 "nbformat_minor": 0,
 "worksheets": [
  {
   "cells": [
    {
     "cell_type": "code",
     "collapsed": false,
     "input": [
      "import sys\n",
      "import os\n",
      "import ast\n",
      "if \"../stencil\" not in sys.path: sys.path.append(\"../stencil\")\n",
      "from stencil import *\n",
      "from stencil_compiler import PythonCompiler, CCompiler\n",
      "from ctree.frontend import dump\n",
      "import numpy as np\n",
      "import inspect"
     ],
     "language": "python",
     "metadata": {},
     "outputs": [],
     "prompt_number": 1
    },
    {
     "cell_type": "code",
     "collapsed": false,
     "input": [
      "compiler = PythonCompiler()"
     ],
     "language": "python",
     "metadata": {},
     "outputs": [],
     "prompt_number": 2
    },
    {
     "cell_type": "code",
     "collapsed": false,
     "input": [
      "b = 3\n",
      "h2inv = 1\n",
      "ndim = 1"
     ],
     "language": "python",
     "metadata": {},
     "outputs": [],
     "prompt_number": 3
    },
    {
     "cell_type": "code",
     "collapsed": false,
     "input": [
      "beta_face_values = [np.arange(17)]\n",
      "mesh = np.arange(16)"
     ],
     "language": "python",
     "metadata": {},
     "outputs": [],
     "prompt_number": 4
    },
    {
     "cell_type": "code",
     "collapsed": false,
     "input": [
      "mesh_weights_1 = WeightArray([1, -1, 0])\n",
      "mesh_weights_2 = WeightArray([0, -1, 1])"
     ],
     "language": "python",
     "metadata": {},
     "outputs": [],
     "prompt_number": 5
    },
    {
     "cell_type": "code",
     "collapsed": false,
     "input": [
      "mesh_component_1 = StencilComponent(\"mesh\", mesh_weights_1)\n",
      "mesh_component_2 = StencilComponent(\"mesh\", mesh_weights_2)"
     ],
     "language": "python",
     "metadata": {},
     "outputs": [],
     "prompt_number": 6
    },
    {
     "cell_type": "code",
     "collapsed": false,
     "input": [
      "beta_weight_1 = WeightArray([1])\n",
      "beta_component_1 = StencilComponent(\"beta_face_values_1\", beta_weight_1)"
     ],
     "language": "python",
     "metadata": {},
     "outputs": [],
     "prompt_number": 7
    },
    {
     "cell_type": "code",
     "collapsed": false,
     "input": [
      "first_part = beta_component_1 * mesh_component_1 * -b * h2inv"
     ],
     "language": "python",
     "metadata": {},
     "outputs": [],
     "prompt_number": 8
    },
    {
     "cell_type": "code",
     "collapsed": false,
     "input": [
      "beta_weight_2 = SparseWeightArray({(1,): 1})\n",
      "beta_component_2 = StencilComponent(\"beta_face_values_1\", beta_weight_2)"
     ],
     "language": "python",
     "metadata": {},
     "outputs": [],
     "prompt_number": 9
    },
    {
     "cell_type": "code",
     "collapsed": false,
     "input": [
      "second_part = beta_component_2 * mesh_component_2 * -b * h2inv"
     ],
     "language": "python",
     "metadata": {},
     "outputs": [],
     "prompt_number": 10
    },
    {
     "cell_type": "code",
     "collapsed": false,
     "input": [
      "full_op = first_part + second_part"
     ],
     "language": "python",
     "metadata": {},
     "outputs": [],
     "prompt_number": 11
    },
    {
     "cell_type": "code",
     "collapsed": false,
     "input": [
      "op_stencil = Stencil(full_op)"
     ],
     "language": "python",
     "metadata": {},
     "outputs": [],
     "prompt_number": 12
    },
    {
     "cell_type": "code",
     "collapsed": false,
     "input": [
      "kernel = compiler.compile(op_stencil)\n",
      "print(dump(full_op))"
     ],
     "language": "python",
     "metadata": {},
     "outputs": [
      {
       "output_type": "stream",
       "stream": "stdout",
       "text": [
        "StencilOp(left=StencilOp(left=StencilOp(left=StencilOp(left=StencilComponent(name='beta_face_values_1', weights=WeightArray(weights=[\n",
        "    StencilConstant(value=1),\n",
        "  ])), right=StencilComponent(name='mesh', weights=WeightArray(weights=[\n",
        "    StencilConstant(value=1),\n",
        "    StencilConstant(value=-1),\n",
        "    StencilConstant(value=0),\n",
        "  ]))), right=StencilConstant(value=-3)), right=StencilConstant(value=1)), right=StencilOp(left=StencilOp(left=StencilOp(left=StencilComponent(name='beta_face_values_1', weights=SparseWeightArray(weights=[\n",
        "    StencilConstant(value=1),\n",
        "  ])), right=StencilComponent(name='mesh', weights=WeightArray(weights=[\n",
        "    StencilConstant(value=0),\n",
        "    StencilConstant(value=-1),\n",
        "    StencilConstant(value=1),\n",
        "  ]))), right=StencilConstant(value=-3)), right=StencilConstant(value=1)))\n"
       ]
      }
     ],
     "prompt_number": 13
    },
    {
     "cell_type": "code",
     "collapsed": false,
     "input": [
      "mesh"
     ],
     "language": "python",
     "metadata": {},
     "outputs": [
      {
       "metadata": {},
       "output_type": "pyout",
       "prompt_number": 14,
       "text": [
        "array([ 0,  1,  2,  3,  4,  5,  6,  7,  8,  9, 10, 11, 12, 13, 14, 15])"
       ]
      }
     ],
     "prompt_number": 14
    },
    {
     "cell_type": "code",
     "collapsed": false,
     "input": [
      "beta_face_values"
     ],
     "language": "python",
     "metadata": {},
     "outputs": [
      {
       "metadata": {},
       "output_type": "pyout",
       "prompt_number": 15,
       "text": [
        "[array([ 0,  1,  2,  3,  4,  5,  6,  7,  8,  9, 10, 11, 12, 13, 14, 15, 16])]"
       ]
      }
     ],
     "prompt_number": 15
    },
    {
     "cell_type": "code",
     "collapsed": false,
     "input": [
      "inspect.getargspec(kernel)"
     ],
     "language": "python",
     "metadata": {},
     "outputs": [
      {
       "metadata": {},
       "output_type": "pyout",
       "prompt_number": 16,
       "text": [
        "ArgSpec(args=['index', 'beta_face_values_1', 'mesh'], varargs=None, keywords=None, defaults=None)"
       ]
      }
     ],
     "prompt_number": 16
    },
    {
     "cell_type": "code",
     "collapsed": false,
     "input": [
      "kernel(Vector((1,)), *beta_face_values, mesh=mesh)"
     ],
     "language": "python",
     "metadata": {},
     "outputs": [
      {
       "metadata": {},
       "output_type": "pyout",
       "prompt_number": 17,
       "text": [
        "-3"
       ]
      }
     ],
     "prompt_number": 17
    },
    {
     "cell_type": "code",
     "collapsed": false,
     "input": [
      "beta_face_values[0]"
     ],
     "language": "python",
     "metadata": {},
     "outputs": [
      {
       "metadata": {},
       "output_type": "pyout",
       "prompt_number": 18,
       "text": [
        "array([ 0,  1,  2,  3,  4,  5,  6,  7,  8,  9, 10, 11, 12, 13, 14, 15, 16])"
       ]
      }
     ],
     "prompt_number": 18
    },
    {
     "cell_type": "code",
     "collapsed": false,
     "input": [
      "bfv = beta_face_values[0]"
     ],
     "language": "python",
     "metadata": {},
     "outputs": [],
     "prompt_number": 19
    },
    {
     "cell_type": "code",
     "collapsed": false,
     "input": [
      "bfv[1] * (mesh[0] - mesh[1]) * -b * h2inv"
     ],
     "language": "python",
     "metadata": {},
     "outputs": [
      {
       "metadata": {},
       "output_type": "pyout",
       "prompt_number": 20,
       "text": [
        "3"
       ]
      }
     ],
     "prompt_number": 20
    },
    {
     "cell_type": "code",
     "collapsed": false,
     "input": [
      "bfv[2] * (mesh[2] - mesh[1]) * -b * h2inv"
     ],
     "language": "python",
     "metadata": {},
     "outputs": [
      {
       "metadata": {},
       "output_type": "pyout",
       "prompt_number": 21,
       "text": [
        "-6"
       ]
      }
     ],
     "prompt_number": 21
    },
    {
     "cell_type": "code",
     "collapsed": false,
     "input": [
      "f = StencilComponent(\"rhs_mesh\", WeightArray([1]))\n",
      "lambda_component = StencilComponent(\"lambda_mesh\", WeightArray([1]))\n",
      "working_component = StencilComponent(\"mesh\", WeightArray([1]))\n",
      "weight = 1"
     ],
     "language": "python",
     "metadata": {},
     "outputs": [],
     "prompt_number": 22
    },
    {
     "cell_type": "code",
     "collapsed": false,
     "input": [
      "jacobi = Stencil(working_component + (weight * lambda_component * (f - full_op)))"
     ],
     "language": "python",
     "metadata": {},
     "outputs": [],
     "prompt_number": 23
    },
    {
     "cell_type": "code",
     "collapsed": false,
     "input": [
      "jacobi_kernel = compiler.compile(jacobi)"
     ],
     "language": "python",
     "metadata": {},
     "outputs": [],
     "prompt_number": 24
    },
    {
     "cell_type": "code",
     "collapsed": false,
     "input": [
      "inspect.getargspec(jacobi_kernel)"
     ],
     "language": "python",
     "metadata": {},
     "outputs": [
      {
       "metadata": {},
       "output_type": "pyout",
       "prompt_number": 25,
       "text": [
        "ArgSpec(args=['index', 'beta_face_values_1', 'lambda_mesh', 'mesh', 'rhs_mesh'], varargs=None, keywords=None, defaults=None)"
       ]
      }
     ],
     "prompt_number": 25
    },
    {
     "cell_type": "code",
     "collapsed": false,
     "input": [
      "rhs_mesh = np.arange(1, 17)\n",
      "lambda_mesh = np.arange(16)"
     ],
     "language": "python",
     "metadata": {},
     "outputs": [],
     "prompt_number": 26
    },
    {
     "cell_type": "code",
     "collapsed": false,
     "input": [
      "[jacobi_kernel(Vector((i,)), bfv, lambda_mesh, mesh, rhs_mesh) for i in range(1, 15)]"
     ],
     "language": "python",
     "metadata": {},
     "outputs": [
      {
       "metadata": {},
       "output_type": "pyout",
       "prompt_number": 27,
       "text": [
        "[6, 14, 24, 36, 50, 66, 84, 104, 126, 150, 176, 204, 234, 266]"
       ]
      }
     ],
     "prompt_number": 27
    },
    {
     "cell_type": "code",
     "collapsed": false,
     "input": [
      "from ctree.frontend import dump"
     ],
     "language": "python",
     "metadata": {},
     "outputs": [],
     "prompt_number": 28
    },
    {
     "cell_type": "code",
     "collapsed": false,
     "input": [
      "print(dump(jacobi.op_tree))"
     ],
     "language": "python",
     "metadata": {},
     "outputs": [
      {
       "output_type": "stream",
       "stream": "stdout",
       "text": [
        "StencilOp(left=StencilComponent(name='mesh', weights=WeightArray(weights=[\n",
        "    StencilConstant(value=1),\n",
        "  ])), right=StencilOp(left=StencilOp(left=StencilComponent(name='lambda_mesh', weights=WeightArray(weights=[\n",
        "    StencilConstant(value=1),\n",
        "  ])), right=StencilConstant(value=1)), right=StencilOp(left=StencilComponent(name='rhs_mesh', weights=WeightArray(weights=[\n",
        "    StencilConstant(value=1),\n",
        "  ])), right=StencilOp(left=StencilOp(left=StencilOp(left=StencilOp(left=StencilComponent(name='beta_face_values_1', weights=WeightArray(weights=[\n",
        "    StencilConstant(value=1),\n",
        "  ])), right=StencilComponent(name='mesh', weights=WeightArray(weights=[\n",
        "    StencilConstant(value=1),\n",
        "    StencilConstant(value=-1),\n",
        "    StencilConstant(value=0),\n",
        "  ]))), right=StencilConstant(value=-3)), right=StencilConstant(value=1)), right=StencilOp(left=StencilOp(left=StencilOp(left=StencilComponent(name='beta_face_values_1', weights=SparseWeightArray(weights=[\n",
        "    StencilConstant(value=1),\n",
        "  ])), right=StencilComponent(name='mesh', weights=WeightArray(weights=[\n",
        "    StencilConstant(value=0),\n",
        "    StencilConstant(value=-1),\n",
        "    StencilConstant(value=1),\n",
        "  ]))), right=StencilConstant(value=-3)), right=StencilConstant(value=1))))))\n"
       ]
      }
     ],
     "prompt_number": 29
    },
    {
     "cell_type": "code",
     "collapsed": false,
     "input": [
      "ccompiler = CCompiler()"
     ],
     "language": "python",
     "metadata": {},
     "outputs": [],
     "prompt_number": 30
    },
    {
     "cell_type": "code",
     "collapsed": false,
     "input": [
      "ccompiler.compile(jacobi)"
     ],
     "language": "python",
     "metadata": {},
     "outputs": [
      {
       "output_type": "stream",
       "stream": "stdout",
       "text": [
        "BinaryOp(left=BinaryOp(left=BinaryOp(left=SymbolRef(name='mesh', type=None), op=<ctree.c.nodes.ArrayRef object at 0x1146860d0>, right=FunctionCall(func=SymbolRef(name='encode', type=None), args=[\n",
        "    BinaryOp(left=SymbolRef(name='index_0', type=None), op=<ctree.c.nodes.Add object at 0x11467cfd0>, right=Constant(value=0)),\n",
        "  ])), op=<ctree.c.nodes.Mul object at 0x11467ce90>, right=Constant(value=1)), op=<ctree.c.nodes.Add object at 0x11468ab90>, right=BinaryOp(left=BinaryOp(left=BinaryOp(left=BinaryOp(left=SymbolRef(name='lambda_mesh', type=None), op=<ctree.c.nodes.ArrayRef object at 0x1146873d0>, right=FunctionCall(func=SymbolRef(name='encode', type=None), args=[\n",
        "    BinaryOp(left=SymbolRef(name='index_0', type=None), op=<ctree.c.nodes.Add object at 0x114688710>, right=Constant(value=0)),\n",
        "  ])), op=<ctree.c.nodes.Mul object at 0x114687650>, right=Constant(value=1)), op=<ctree.c.nodes.Mul object at 0x114688650>, right=Constant(value=1)), op=<ctree.c.nodes.Mul object at 0x11468ab10>, right=BinaryOp(left=BinaryOp(left=BinaryOp(left=SymbolRef(name='rhs_mesh', type=None), op=<ctree.c.nodes.ArrayRef object at 0x114687590>, right=FunctionCall(func=SymbolRef(name='encode', type=None), args=[\n",
        "    BinaryOp(left=SymbolRef(name='index_0', type=None), op=<ctree.c.nodes.Add object at 0x1146889d0>, right=Constant(value=0)),\n",
        "  ])), op=<ctree.c.nodes.Mul object at 0x1146874d0>, right=Constant(value=1)), op=<ctree.c.nodes.Sub object at 0x11468aa90>, right=BinaryOp(left=BinaryOp(left=BinaryOp(left=BinaryOp(left=BinaryOp(left=BinaryOp(left=SymbolRef(name='beta_face_values_1', type=None), op=<ctree.c.nodes.ArrayRef object at 0x114687950>, right=FunctionCall(func=SymbolRef(name='encode', type=None), args=[\n",
        "    BinaryOp(left=SymbolRef(name='index_0', type=None), op=<ctree.c.nodes.Add object at 0x114688b10>, right=Constant(value=0)),\n",
        "  ])), op=<ctree.c.nodes.Mul object at 0x114686150>, right=Constant(value=1)), op=<ctree.c.nodes.Mul object at 0x114688fd0>, right=BinaryOp(left=BinaryOp(left=BinaryOp(left=BinaryOp(left=SymbolRef(name='mesh', type=None), op=<ctree.c.nodes.ArrayRef object at 0x114687190>, right=FunctionCall(func=SymbolRef(name='encode', type=None), args=[\n",
        "    BinaryOp(left=SymbolRef(name='index_0', type=None), op=<ctree.c.nodes.Add object at 0x114688c50>, right=Constant(value=-1)),\n",
        "  ])), op=<ctree.c.nodes.Mul object at 0x114686b10>, right=Constant(value=1)), op=<ctree.c.nodes.Add object at 0x114688b90>, right=BinaryOp(left=BinaryOp(left=SymbolRef(name='mesh', type=None), op=<ctree.c.nodes.ArrayRef object at 0x114686ed0>, right=FunctionCall(func=SymbolRef(name='encode', type=None), args=[\n",
        "    BinaryOp(left=SymbolRef(name='index_0', type=None), op=<ctree.c.nodes.Add object at 0x114688d90>, right=Constant(value=0)),\n",
        "  ])), op=<ctree.c.nodes.Mul object at 0x114686e90>, right=Constant(value=-1))), op=<ctree.c.nodes.Add object at 0x114688e50>, right=BinaryOp(left=BinaryOp(left=SymbolRef(name='mesh', type=None), op=<ctree.c.nodes.ArrayRef object at 0x114686890>, right=FunctionCall(func=SymbolRef(name='encode', type=None), args=[\n",
        "    BinaryOp(left=SymbolRef(name='index_0', type=None), op=<ctree.c.nodes.Add object at 0x114688f50>, right=Constant(value=1)),\n",
        "  ])), op=<ctree.c.nodes.Mul object at 0x11467e950>, right=Constant(value=0)))), op=<ctree.c.nodes.Mul object at 0x11468a0d0>, right=Constant(value=-3)), op=<ctree.c.nodes.Mul object at 0x11468a190>, right=Constant(value=1)), op=<ctree.c.nodes.Add object at 0x11468aa10>, right=BinaryOp(left=BinaryOp(left=BinaryOp(left=BinaryOp(left=BinaryOp(left=SymbolRef(name='beta_face_values_1', type=None), op=<ctree.c.nodes.ArrayRef object at 0x114686090>, right=FunctionCall(func=SymbolRef(name='encode', type=None), args=[\n",
        "    BinaryOp(left=SymbolRef(name='index_0', type=None), op=<ctree.c.nodes.Add object at 0x11468a350>, right=Constant(value=1)),\n",
        "  ])), op=<ctree.c.nodes.Mul object at 0x11467e990>, right=Constant(value=1)), op=<ctree.c.nodes.Mul object at 0x11468a810>, right=BinaryOp(left=BinaryOp(left=BinaryOp(left=BinaryOp(left=SymbolRef(name='mesh', type=None), op=<ctree.c.nodes.ArrayRef object at 0x11467e2d0>, right=FunctionCall(func=SymbolRef(name='encode', type=None), args=[\n",
        "    BinaryOp(left=SymbolRef(name='index_0', type=None), op=<ctree.c.nodes.Add object at 0x11468a490>, right=Constant(value=-1)),\n",
        "  ])), op=<ctree.c.nodes.Mul object at 0x11467c350>, right=Constant(value=0)), op=<ctree.c.nodes.Add object at 0x11468a3d0>, right=BinaryOp(left=BinaryOp(left=SymbolRef(name='mesh', type=None), op=<ctree.c.nodes.ArrayRef object at 0x11467e850>, right=FunctionCall(func=SymbolRef(name='encode', type=None), args=[\n",
        "    BinaryOp(left=SymbolRef(name='index_0', type=None), op=<ctree.c.nodes.Add object at 0x11468a5d0>, right=Constant(value=0)),\n",
        "  ])), op=<ctree.c.nodes.Mul object at 0x11467cdd0>, right=Constant(value=-1))), op=<ctree.c.nodes.Add object at 0x11468a690>, right=BinaryOp(left=BinaryOp(left=SymbolRef(name='mesh', type=None), op=<ctree.c.nodes.ArrayRef object at 0x11467c110>, right=FunctionCall(func=SymbolRef(name='encode', type=None), args=[\n",
        "    BinaryOp(left=SymbolRef(name='index_0', type=None), op=<ctree.c.nodes.Add object at 0x11468a790>, right=Constant(value=1)),\n",
        "  ])), op=<ctree.c.nodes.Mul object at 0x11467ca50>, right=Constant(value=1)))), op=<ctree.c.nodes.Mul object at 0x11468a8d0>, right=Constant(value=-3)), op=<ctree.c.nodes.Mul object at 0x11468a990>, right=Constant(value=1))))))\n",
        "mesh[encode(index_0 + 0)] * 1 + lambda_mesh[encode(index_0 + 0)] * 1 * 1 * (rhs_mesh[encode(index_0 + 0)] * 1 - (beta_face_values_1[encode(index_0 + 0)] * 1 * (mesh[encode(index_0 + -1)] * 1 + mesh[encode(index_0 + 0)] * -1 + mesh[encode(index_0 + 1)] * 0) * -3 * 1 + beta_face_values_1[encode(index_0 + 1)] * 1 * (mesh[encode(index_0 + -1)] * 0 + mesh[encode(index_0 + 0)] * -1 + mesh[encode(index_0 + 1)] * 1) * -3 * 1))\n"
       ]
      },
      {
       "ename": "Exception",
       "evalue": "",
       "output_type": "pyerr",
       "traceback": [
        "\u001b[0;31m---------------------------------------------------------------------------\u001b[0m\n\u001b[0;31mException\u001b[0m                                 Traceback (most recent call last)",
        "\u001b[0;32m<ipython-input-31-29373a9e5354>\u001b[0m in \u001b[0;36m<module>\u001b[0;34m()\u001b[0m\n\u001b[0;32m----> 1\u001b[0;31m \u001b[0mccompiler\u001b[0m\u001b[0;34m.\u001b[0m\u001b[0mcompile\u001b[0m\u001b[0;34m(\u001b[0m\u001b[0mjacobi\u001b[0m\u001b[0;34m)\u001b[0m\u001b[0;34m\u001b[0m\u001b[0m\n\u001b[0m",
        "\u001b[0;32m/Users/nzhang-dev/aspire/stencil/stencil/stencil_compiler.py\u001b[0m in \u001b[0;36mcompile\u001b[0;34m(self, node)\u001b[0m\n\u001b[1;32m     36\u001b[0m     \u001b[0;32mdef\u001b[0m \u001b[0mcompile\u001b[0m\u001b[0;34m(\u001b[0m\u001b[0mself\u001b[0m\u001b[0;34m,\u001b[0m \u001b[0mnode\u001b[0m\u001b[0;34m)\u001b[0m\u001b[0;34m:\u001b[0m\u001b[0;34m\u001b[0m\u001b[0m\n\u001b[1;32m     37\u001b[0m         \u001b[0mcompiled\u001b[0m \u001b[0;34m=\u001b[0m \u001b[0mself\u001b[0m\u001b[0;34m.\u001b[0m\u001b[0m_compile\u001b[0m\u001b[0;34m(\u001b[0m\u001b[0mnode\u001b[0m\u001b[0;34m,\u001b[0m \u001b[0mself\u001b[0m\u001b[0;34m.\u001b[0m\u001b[0mindex_name\u001b[0m\u001b[0;34m)\u001b[0m\u001b[0;34m\u001b[0m\u001b[0m\n\u001b[0;32m---> 38\u001b[0;31m         \u001b[0mprocessed\u001b[0m \u001b[0;34m=\u001b[0m \u001b[0mself\u001b[0m\u001b[0;34m.\u001b[0m\u001b[0m_post_process\u001b[0m\u001b[0;34m(\u001b[0m\u001b[0mnode\u001b[0m\u001b[0;34m,\u001b[0m \u001b[0mcompiled\u001b[0m\u001b[0;34m,\u001b[0m \u001b[0mself\u001b[0m\u001b[0;34m.\u001b[0m\u001b[0mindex_name\u001b[0m\u001b[0;34m)\u001b[0m\u001b[0;34m\u001b[0m\u001b[0m\n\u001b[0m\u001b[1;32m     39\u001b[0m         \u001b[0;32mreturn\u001b[0m \u001b[0mprocessed\u001b[0m\u001b[0;34m\u001b[0m\u001b[0m\n\u001b[1;32m     40\u001b[0m \u001b[0;34m\u001b[0m\u001b[0m\n",
        "\u001b[0;32m/Users/nzhang-dev/aspire/stencil/stencil/stencil_compiler.py\u001b[0m in \u001b[0;36m_post_process\u001b[0;34m(self, original, compiled, index_name)\u001b[0m\n\u001b[1;32m    111\u001b[0m         \u001b[0;32mprint\u001b[0m\u001b[0;34m(\u001b[0m\u001b[0mdump\u001b[0m\u001b[0;34m(\u001b[0m\u001b[0mc_tree\u001b[0m\u001b[0;34m)\u001b[0m\u001b[0;34m)\u001b[0m\u001b[0;34m\u001b[0m\u001b[0m\n\u001b[1;32m    112\u001b[0m         \u001b[0;32mprint\u001b[0m\u001b[0;34m(\u001b[0m\u001b[0mc_tree\u001b[0m\u001b[0;34m)\u001b[0m\u001b[0;34m\u001b[0m\u001b[0m\n\u001b[0;32m--> 113\u001b[0;31m         \u001b[0;32mraise\u001b[0m \u001b[0mException\u001b[0m\u001b[0;34m(\u001b[0m\u001b[0;34m)\u001b[0m\u001b[0;34m\u001b[0m\u001b[0m\n\u001b[0m",
        "\u001b[0;31mException\u001b[0m: "
       ]
      }
     ],
     "prompt_number": 31
    },
    {
     "cell_type": "code",
     "collapsed": false,
     "input": [],
     "language": "python",
     "metadata": {},
     "outputs": []
    }
   ],
   "metadata": {}
  }
 ]
}
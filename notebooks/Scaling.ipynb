{
 "cells": [
  {
   "cell_type": "code",
   "execution_count": 1,
   "metadata": {
    "collapsed": false
   },
   "outputs": [
    {
     "name": "stdout",
     "output_type": "stream",
     "text": [
      "ctree looking for relative cache directories named compiled, checking directories under this one\r\n",
      "\r\n"
     ]
    }
   ],
   "source": [
    "from snowflake.vector import Vector\n",
    "from snowflake.nodes import *\n",
    "from snowflake.stencil_compiler import CCompiler, PythonCompiler\n",
    "import numpy as np\n",
    "from snowflake.analytics import *\n",
    "ccompiler = CCompiler()\n",
    "pycompiler = PythonCompiler()\n",
    "!ctree -cc"
   ]
  },
  {
   "cell_type": "code",
   "execution_count": 2,
   "metadata": {
    "collapsed": false
   },
   "outputs": [
    {
     "name": "stdout",
     "output_type": "stream",
     "text": [
      "(2*index_0, 2*index_1, 2*index_2)\n"
     ]
    }
   ],
   "source": [
    "offset = 2*Vector.index_vector(3)\n",
    "print(offset)"
   ]
  },
  {
   "cell_type": "code",
   "execution_count": 3,
   "metadata": {
    "collapsed": true
   },
   "outputs": [],
   "source": [
    "swa = SparseWeightArray({offset: 4})"
   ]
  },
  {
   "cell_type": "code",
   "execution_count": 4,
   "metadata": {
    "collapsed": true
   },
   "outputs": [],
   "source": [
    "sc = StencilComponent('a', swa)"
   ]
  },
  {
   "cell_type": "code",
   "execution_count": 5,
   "metadata": {
    "collapsed": true
   },
   "outputs": [],
   "source": [
    "stencil = Stencil(sc, 'out', ((0, 0, 1),)*3, primary_mesh='out')"
   ]
  },
  {
   "cell_type": "code",
   "execution_count": 6,
   "metadata": {
    "collapsed": false
   },
   "outputs": [],
   "source": [
    "ckern = ccompiler.compile(stencil)\n",
    "pykern = pycompiler.compile(stencil)"
   ]
  },
  {
   "cell_type": "code",
   "execution_count": 7,
   "metadata": {
    "collapsed": true
   },
   "outputs": [],
   "source": [
    "in_grid = np.arange(16**3, dtype=np.int).reshape((16, 16, 16))"
   ]
  },
  {
   "cell_type": "code",
   "execution_count": 8,
   "metadata": {
    "collapsed": true
   },
   "outputs": [],
   "source": [
    "out_grid = np.empty((8, 8, 8), dtype=np.int)"
   ]
  },
  {
   "cell_type": "code",
   "execution_count": 9,
   "metadata": {
    "collapsed": false
   },
   "outputs": [
    {
     "data": {
      "text/plain": [
       "array([[[   0,    1,    2, ...,   13,   14,   15],\n",
       "        [  16,   17,   18, ...,   29,   30,   31],\n",
       "        [  32,   33,   34, ...,   45,   46,   47],\n",
       "        ..., \n",
       "        [ 208,  209,  210, ...,  221,  222,  223],\n",
       "        [ 224,  225,  226, ...,  237,  238,  239],\n",
       "        [ 240,  241,  242, ...,  253,  254,  255]],\n",
       "\n",
       "       [[ 256,  257,  258, ...,  269,  270,  271],\n",
       "        [ 272,  273,  274, ...,  285,  286,  287],\n",
       "        [ 288,  289,  290, ...,  301,  302,  303],\n",
       "        ..., \n",
       "        [ 464,  465,  466, ...,  477,  478,  479],\n",
       "        [ 480,  481,  482, ...,  493,  494,  495],\n",
       "        [ 496,  497,  498, ...,  509,  510,  511]],\n",
       "\n",
       "       [[ 512,  513,  514, ...,  525,  526,  527],\n",
       "        [ 528,  529,  530, ...,  541,  542,  543],\n",
       "        [ 544,  545,  546, ...,  557,  558,  559],\n",
       "        ..., \n",
       "        [ 720,  721,  722, ...,  733,  734,  735],\n",
       "        [ 736,  737,  738, ...,  749,  750,  751],\n",
       "        [ 752,  753,  754, ...,  765,  766,  767]],\n",
       "\n",
       "       ..., \n",
       "       [[3328, 3329, 3330, ..., 3341, 3342, 3343],\n",
       "        [3344, 3345, 3346, ..., 3357, 3358, 3359],\n",
       "        [3360, 3361, 3362, ..., 3373, 3374, 3375],\n",
       "        ..., \n",
       "        [3536, 3537, 3538, ..., 3549, 3550, 3551],\n",
       "        [3552, 3553, 3554, ..., 3565, 3566, 3567],\n",
       "        [3568, 3569, 3570, ..., 3581, 3582, 3583]],\n",
       "\n",
       "       [[3584, 3585, 3586, ..., 3597, 3598, 3599],\n",
       "        [3600, 3601, 3602, ..., 3613, 3614, 3615],\n",
       "        [3616, 3617, 3618, ..., 3629, 3630, 3631],\n",
       "        ..., \n",
       "        [3792, 3793, 3794, ..., 3805, 3806, 3807],\n",
       "        [3808, 3809, 3810, ..., 3821, 3822, 3823],\n",
       "        [3824, 3825, 3826, ..., 3837, 3838, 3839]],\n",
       "\n",
       "       [[3840, 3841, 3842, ..., 3853, 3854, 3855],\n",
       "        [3856, 3857, 3858, ..., 3869, 3870, 3871],\n",
       "        [3872, 3873, 3874, ..., 3885, 3886, 3887],\n",
       "        ..., \n",
       "        [4048, 4049, 4050, ..., 4061, 4062, 4063],\n",
       "        [4064, 4065, 4066, ..., 4077, 4078, 4079],\n",
       "        [4080, 4081, 4082, ..., 4093, 4094, 4095]]])"
      ]
     },
     "execution_count": 9,
     "metadata": {},
     "output_type": "execute_result"
    }
   ],
   "source": [
    "in_grid"
   ]
  },
  {
   "cell_type": "code",
   "execution_count": 10,
   "metadata": {
    "collapsed": false,
    "scrolled": false
   },
   "outputs": [],
   "source": [
    "#out_grid"
   ]
  },
  {
   "cell_type": "code",
   "execution_count": 11,
   "metadata": {
    "collapsed": false,
    "scrolled": false
   },
   "outputs": [],
   "source": [
    "pykern(out_grid, in_grid)"
   ]
  },
  {
   "cell_type": "code",
   "execution_count": 12,
   "metadata": {
    "collapsed": false
   },
   "outputs": [
    {
     "data": {
      "text/plain": [
       "array([[[   0,    8,   16,   24],\n",
       "        [ 128,  136,  144,  152],\n",
       "        [ 256,  264,  272,  280],\n",
       "        [ 384,  392,  400,  408]],\n",
       "\n",
       "       [[2048, 2056, 2064, 2072],\n",
       "        [2176, 2184, 2192, 2200],\n",
       "        [2304, 2312, 2320, 2328],\n",
       "        [2432, 2440, 2448, 2456]],\n",
       "\n",
       "       [[4096, 4104, 4112, 4120],\n",
       "        [4224, 4232, 4240, 4248],\n",
       "        [4352, 4360, 4368, 4376],\n",
       "        [4480, 4488, 4496, 4504]],\n",
       "\n",
       "       [[6144, 6152, 6160, 6168],\n",
       "        [6272, 6280, 6288, 6296],\n",
       "        [6400, 6408, 6416, 6424],\n",
       "        [6528, 6536, 6544, 6552]]])"
      ]
     },
     "execution_count": 12,
     "metadata": {},
     "output_type": "execute_result"
    }
   ],
   "source": [
    "out_grid[:4, :4, :4]"
   ]
  },
  {
   "cell_type": "code",
   "execution_count": 13,
   "metadata": {
    "collapsed": false
   },
   "outputs": [
    {
     "data": {
      "text/plain": [
       "array([[[   0,    8,   16,   24],\n",
       "        [ 128,  136,  144,  152],\n",
       "        [ 256,  264,  272,  280],\n",
       "        [ 384,  392,  400,  408]],\n",
       "\n",
       "       [[2048, 2056, 2064, 2072],\n",
       "        [2176, 2184, 2192, 2200],\n",
       "        [2304, 2312, 2320, 2328],\n",
       "        [2432, 2440, 2448, 2456]],\n",
       "\n",
       "       [[4096, 4104, 4112, 4120],\n",
       "        [4224, 4232, 4240, 4248],\n",
       "        [4352, 4360, 4368, 4376],\n",
       "        [4480, 4488, 4496, 4504]],\n",
       "\n",
       "       [[6144, 6152, 6160, 6168],\n",
       "        [6272, 6280, 6288, 6296],\n",
       "        [6400, 6408, 6416, 6424],\n",
       "        [6528, 6536, 6544, 6552]]])"
      ]
     },
     "execution_count": 13,
     "metadata": {},
     "output_type": "execute_result"
    }
   ],
   "source": [
    "in_grid[:8:2, :8:2, :8:2]*4"
   ]
  },
  {
   "cell_type": "code",
   "execution_count": 14,
   "metadata": {
    "collapsed": false
   },
   "outputs": [
    {
     "data": {
      "text/plain": [
       "defaultdict(set, {'a': {(2*index_0, 2*index_1, 2*index_2)}})"
      ]
     },
     "execution_count": 14,
     "metadata": {},
     "output_type": "execute_result"
    }
   ],
   "source": [
    "get_shadow(stencil)"
   ]
  },
  {
   "cell_type": "code",
   "execution_count": 15,
   "metadata": {
    "collapsed": false
   },
   "outputs": [
    {
     "name": "stdout",
     "output_type": "stream",
     "text": [
      "Output does not coincide with input grids. Analysis Complete.\n"
     ]
    },
    {
     "data": {
      "text/plain": [
       "True"
      ]
     },
     "execution_count": 15,
     "metadata": {},
     "output_type": "execute_result"
    }
   ],
   "source": [
    "validate_stencil(stencil, True)"
   ]
  },
  {
   "cell_type": "code",
   "execution_count": 16,
   "metadata": {
    "collapsed": true
   },
   "outputs": [],
   "source": [
    "sampling_restriction_with_ghost = Stencil(sc, 'out', ((1, -1, 1),)*3, primary_mesh='out')"
   ]
  },
  {
   "cell_type": "code",
   "execution_count": 17,
   "metadata": {
    "collapsed": true
   },
   "outputs": [],
   "source": [
    "csrgkern = ccompiler.compile(sampling_restriction_with_ghost)\n",
    "pysrgkern = pycompiler.compile(sampling_restriction_with_ghost)"
   ]
  },
  {
   "cell_type": "code",
   "execution_count": 18,
   "metadata": {
    "collapsed": true
   },
   "outputs": [],
   "source": [
    "data = np.zeros((34, 34, 34), dtype=np.int)\n",
    "data[1:-1, 1:-1, 1:-1] = np.arange(32*32*32, dtype=np.int).reshape((32, 32, 32))"
   ]
  },
  {
   "cell_type": "code",
   "execution_count": 19,
   "metadata": {
    "collapsed": true
   },
   "outputs": [],
   "source": [
    "output = np.zeros((18, 18, 18), dtype=np.int)\n",
    "output2 = np.zeros_like(output)"
   ]
  },
  {
   "cell_type": "code",
   "execution_count": 20,
   "metadata": {
    "collapsed": false
   },
   "outputs": [],
   "source": [
    "csrgkern(output, data)"
   ]
  },
  {
   "cell_type": "code",
   "execution_count": 21,
   "metadata": {
    "collapsed": false
   },
   "outputs": [
    {
     "data": {
      "text/plain": [
       "array([[[     0,      0,      0, ...,      0,      0,      0],\n",
       "        [     0,      0,      0, ...,      0,      0,      0],\n",
       "        [     0,      0,      0, ...,      0,      0,      0],\n",
       "        ..., \n",
       "        [     0,      0,      0, ...,      0,      0,      0],\n",
       "        [     0,      0,      0, ...,      0,      0,      0],\n",
       "        [     0,      0,      0, ...,      0,      0,      0]],\n",
       "\n",
       "       [[     0,      0,      0, ...,      0,      0,      0],\n",
       "        [     0,   4228,   4236, ...,   4340,   4348,      0],\n",
       "        [     0,   4484,   4492, ...,   4596,   4604,      0],\n",
       "        ..., \n",
       "        [     0,   7812,   7820, ...,   7924,   7932,      0],\n",
       "        [     0,   8068,   8076, ...,   8180,   8188,      0],\n",
       "        [     0,      0,      0, ...,      0,      0,      0]],\n",
       "\n",
       "       [[     0,      0,      0, ...,      0,      0,      0],\n",
       "        [     0,  12420,  12428, ...,  12532,  12540,      0],\n",
       "        [     0,  12676,  12684, ...,  12788,  12796,      0],\n",
       "        ..., \n",
       "        [     0,  16004,  16012, ...,  16116,  16124,      0],\n",
       "        [     0,  16260,  16268, ...,  16372,  16380,      0],\n",
       "        [     0,      0,      0, ...,      0,      0,      0]],\n",
       "\n",
       "       ..., \n",
       "       [[     0,      0,      0, ...,      0,      0,      0],\n",
       "        [     0, 118916, 118924, ..., 119028, 119036,      0],\n",
       "        [     0, 119172, 119180, ..., 119284, 119292,      0],\n",
       "        ..., \n",
       "        [     0, 122500, 122508, ..., 122612, 122620,      0],\n",
       "        [     0, 122756, 122764, ..., 122868, 122876,      0],\n",
       "        [     0,      0,      0, ...,      0,      0,      0]],\n",
       "\n",
       "       [[     0,      0,      0, ...,      0,      0,      0],\n",
       "        [     0, 127108, 127116, ..., 127220, 127228,      0],\n",
       "        [     0, 127364, 127372, ..., 127476, 127484,      0],\n",
       "        ..., \n",
       "        [     0, 130692, 130700, ..., 130804, 130812,      0],\n",
       "        [     0, 130948, 130956, ..., 131060, 131068,      0],\n",
       "        [     0,      0,      0, ...,      0,      0,      0]],\n",
       "\n",
       "       [[     0,      0,      0, ...,      0,      0,      0],\n",
       "        [     0,      0,      0, ...,      0,      0,      0],\n",
       "        [     0,      0,      0, ...,      0,      0,      0],\n",
       "        ..., \n",
       "        [     0,      0,      0, ...,      0,      0,      0],\n",
       "        [     0,      0,      0, ...,      0,      0,      0],\n",
       "        [     0,      0,      0, ...,      0,      0,      0]]])"
      ]
     },
     "execution_count": 21,
     "metadata": {},
     "output_type": "execute_result"
    }
   ],
   "source": [
    "output"
   ]
  },
  {
   "cell_type": "code",
   "execution_count": 22,
   "metadata": {
    "collapsed": false
   },
   "outputs": [],
   "source": [
    "pysrgkern(output2, data)"
   ]
  },
  {
   "cell_type": "code",
   "execution_count": 23,
   "metadata": {
    "collapsed": false
   },
   "outputs": [
    {
     "data": {
      "text/plain": [
       "array([[[ True,  True,  True, ...,  True,  True,  True],\n",
       "        [ True,  True,  True, ...,  True,  True,  True],\n",
       "        [ True,  True,  True, ...,  True,  True,  True],\n",
       "        ..., \n",
       "        [ True,  True,  True, ...,  True,  True,  True],\n",
       "        [ True,  True,  True, ...,  True,  True,  True],\n",
       "        [ True,  True,  True, ...,  True,  True,  True]],\n",
       "\n",
       "       [[ True,  True,  True, ...,  True,  True,  True],\n",
       "        [ True,  True,  True, ...,  True,  True,  True],\n",
       "        [ True,  True,  True, ...,  True,  True,  True],\n",
       "        ..., \n",
       "        [ True,  True,  True, ...,  True,  True,  True],\n",
       "        [ True,  True,  True, ...,  True,  True,  True],\n",
       "        [ True,  True,  True, ...,  True,  True,  True]],\n",
       "\n",
       "       [[ True,  True,  True, ...,  True,  True,  True],\n",
       "        [ True,  True,  True, ...,  True,  True,  True],\n",
       "        [ True,  True,  True, ...,  True,  True,  True],\n",
       "        ..., \n",
       "        [ True,  True,  True, ...,  True,  True,  True],\n",
       "        [ True,  True,  True, ...,  True,  True,  True],\n",
       "        [ True,  True,  True, ...,  True,  True,  True]],\n",
       "\n",
       "       ..., \n",
       "       [[ True,  True,  True, ...,  True,  True,  True],\n",
       "        [ True,  True,  True, ...,  True,  True,  True],\n",
       "        [ True,  True,  True, ...,  True,  True,  True],\n",
       "        ..., \n",
       "        [ True,  True,  True, ...,  True,  True,  True],\n",
       "        [ True,  True,  True, ...,  True,  True,  True],\n",
       "        [ True,  True,  True, ...,  True,  True,  True]],\n",
       "\n",
       "       [[ True,  True,  True, ...,  True,  True,  True],\n",
       "        [ True,  True,  True, ...,  True,  True,  True],\n",
       "        [ True,  True,  True, ...,  True,  True,  True],\n",
       "        ..., \n",
       "        [ True,  True,  True, ...,  True,  True,  True],\n",
       "        [ True,  True,  True, ...,  True,  True,  True],\n",
       "        [ True,  True,  True, ...,  True,  True,  True]],\n",
       "\n",
       "       [[ True,  True,  True, ...,  True,  True,  True],\n",
       "        [ True,  True,  True, ...,  True,  True,  True],\n",
       "        [ True,  True,  True, ...,  True,  True,  True],\n",
       "        ..., \n",
       "        [ True,  True,  True, ...,  True,  True,  True],\n",
       "        [ True,  True,  True, ...,  True,  True,  True],\n",
       "        [ True,  True,  True, ...,  True,  True,  True]]], dtype=bool)"
      ]
     },
     "execution_count": 23,
     "metadata": {},
     "output_type": "execute_result"
    }
   ],
   "source": [
    "output2 == output"
   ]
  }
 ],
 "metadata": {
  "kernelspec": {
   "display_name": "Python 2",
   "language": "python",
   "name": "python2"
  },
  "language_info": {
   "codemirror_mode": {
    "name": "ipython",
    "version": 2
   },
   "file_extension": ".py",
   "mimetype": "text/x-python",
   "name": "python",
   "nbconvert_exporter": "python",
   "pygments_lexer": "ipython2",
   "version": "2.7.10"
  }
 },
 "nbformat": 4,
 "nbformat_minor": 0
}
